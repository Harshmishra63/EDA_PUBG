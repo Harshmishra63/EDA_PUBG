{
 "cells": [
  {
   "cell_type": "code",
   "execution_count": 34,
   "metadata": {},
   "outputs": [],
   "source": [
    "import pandas as pd \n",
    "import numpy as np\n",
    "import matplotlib.pyplot as plt\n",
    "import seaborn as sns\n",
    "from collections import Counter\n",
    "import missingno as mno\n",
    "import plotly.express as px\n",
    "\n"
   ]
  },
  {
   "cell_type": "code",
   "execution_count": 3,
   "metadata": {},
   "outputs": [
    {
     "data": {
      "text/html": [
       "<div>\n",
       "<style scoped>\n",
       "    .dataframe tbody tr th:only-of-type {\n",
       "        vertical-align: middle;\n",
       "    }\n",
       "\n",
       "    .dataframe tbody tr th {\n",
       "        vertical-align: top;\n",
       "    }\n",
       "\n",
       "    .dataframe thead th {\n",
       "        text-align: right;\n",
       "    }\n",
       "</style>\n",
       "<table border=\"1\" class=\"dataframe\">\n",
       "  <thead>\n",
       "    <tr style=\"text-align: right;\">\n",
       "      <th></th>\n",
       "      <th>Weapon Name</th>\n",
       "      <th>Weapon Type</th>\n",
       "      <th>Bullet Type</th>\n",
       "      <th>Damage</th>\n",
       "      <th>Magazine Capacity</th>\n",
       "      <th>Range</th>\n",
       "      <th>Bullet Speed</th>\n",
       "      <th>Rate of Fire</th>\n",
       "      <th>Shots to Kill (Chest)</th>\n",
       "      <th>Shots to Kill (Head)</th>\n",
       "      <th>Damage Per Second</th>\n",
       "      <th>Fire Mode</th>\n",
       "      <th>BDMG_0</th>\n",
       "      <th>BDMG_1</th>\n",
       "      <th>BDMG_2</th>\n",
       "      <th>BDMG_3</th>\n",
       "      <th>HDMG_0</th>\n",
       "      <th>HDMG_1</th>\n",
       "      <th>HDMG_2</th>\n",
       "      <th>HDMG_3</th>\n",
       "    </tr>\n",
       "  </thead>\n",
       "  <tbody>\n",
       "    <tr>\n",
       "      <th>0</th>\n",
       "      <td>Groza</td>\n",
       "      <td>Assault Rifle</td>\n",
       "      <td>7.62</td>\n",
       "      <td>49</td>\n",
       "      <td>30</td>\n",
       "      <td>400.0</td>\n",
       "      <td>715.0</td>\n",
       "      <td>0.080</td>\n",
       "      <td>4</td>\n",
       "      <td>2</td>\n",
       "      <td>612.0</td>\n",
       "      <td>Single, Automatic, Burst</td>\n",
       "      <td>47.0</td>\n",
       "      <td>34.3</td>\n",
       "      <td>29.4</td>\n",
       "      <td>22.0</td>\n",
       "      <td>115.1</td>\n",
       "      <td>80.6</td>\n",
       "      <td>69.0</td>\n",
       "      <td>51.8</td>\n",
       "    </tr>\n",
       "    <tr>\n",
       "      <th>1</th>\n",
       "      <td>AKM</td>\n",
       "      <td>Assault Rifle</td>\n",
       "      <td>7.62</td>\n",
       "      <td>49</td>\n",
       "      <td>30</td>\n",
       "      <td>400.0</td>\n",
       "      <td>710.0</td>\n",
       "      <td>0.010</td>\n",
       "      <td>4</td>\n",
       "      <td>2</td>\n",
       "      <td>490.0</td>\n",
       "      <td>Single, Automatic</td>\n",
       "      <td>47.0</td>\n",
       "      <td>34.3</td>\n",
       "      <td>29.4</td>\n",
       "      <td>22.0</td>\n",
       "      <td>115.1</td>\n",
       "      <td>80.6</td>\n",
       "      <td>69.0</td>\n",
       "      <td>51.8</td>\n",
       "    </tr>\n",
       "    <tr>\n",
       "      <th>2</th>\n",
       "      <td>M762</td>\n",
       "      <td>Assault Rifle</td>\n",
       "      <td>7.62</td>\n",
       "      <td>47</td>\n",
       "      <td>30</td>\n",
       "      <td>400.0</td>\n",
       "      <td>715.0</td>\n",
       "      <td>0.086</td>\n",
       "      <td>4</td>\n",
       "      <td>2</td>\n",
       "      <td>547.0</td>\n",
       "      <td>Single, Automatic, Burst</td>\n",
       "      <td>46.0</td>\n",
       "      <td>32.9</td>\n",
       "      <td>28.2</td>\n",
       "      <td>21.1</td>\n",
       "      <td>110.4</td>\n",
       "      <td>77.3</td>\n",
       "      <td>66.2</td>\n",
       "      <td>49.7</td>\n",
       "    </tr>\n",
       "    <tr>\n",
       "      <th>3</th>\n",
       "      <td>MK47 Mutant</td>\n",
       "      <td>Assault Rifle</td>\n",
       "      <td>7.62</td>\n",
       "      <td>49</td>\n",
       "      <td>30</td>\n",
       "      <td>500.0</td>\n",
       "      <td>715.0</td>\n",
       "      <td>0.010</td>\n",
       "      <td>4</td>\n",
       "      <td>2</td>\n",
       "      <td>490.0</td>\n",
       "      <td>Single, Burst</td>\n",
       "      <td>49.0</td>\n",
       "      <td>34.3</td>\n",
       "      <td>29.4</td>\n",
       "      <td>22.0</td>\n",
       "      <td>115.1</td>\n",
       "      <td>80.6</td>\n",
       "      <td>69.0</td>\n",
       "      <td>51.8</td>\n",
       "    </tr>\n",
       "    <tr>\n",
       "      <th>4</th>\n",
       "      <td>AUG A3</td>\n",
       "      <td>Assault Rifle</td>\n",
       "      <td>5.56</td>\n",
       "      <td>43</td>\n",
       "      <td>30</td>\n",
       "      <td>600.0</td>\n",
       "      <td>880.0</td>\n",
       "      <td>0.086</td>\n",
       "      <td>4</td>\n",
       "      <td>2</td>\n",
       "      <td>502.0</td>\n",
       "      <td>Single, Automatic</td>\n",
       "      <td>41.0</td>\n",
       "      <td>30.1</td>\n",
       "      <td>25.8</td>\n",
       "      <td>19.3</td>\n",
       "      <td>101.0</td>\n",
       "      <td>70.7</td>\n",
       "      <td>60.6</td>\n",
       "      <td>45.4</td>\n",
       "    </tr>\n",
       "  </tbody>\n",
       "</table>\n",
       "</div>"
      ],
      "text/plain": [
       "   Weapon Name    Weapon Type  Bullet Type  Damage  Magazine Capacity  Range  \\\n",
       "0        Groza  Assault Rifle         7.62      49                 30  400.0   \n",
       "1          AKM  Assault Rifle         7.62      49                 30  400.0   \n",
       "2         M762  Assault Rifle         7.62      47                 30  400.0   \n",
       "3  MK47 Mutant  Assault Rifle         7.62      49                 30  500.0   \n",
       "4       AUG A3  Assault Rifle         5.56      43                 30  600.0   \n",
       "\n",
       "   Bullet Speed  Rate of Fire  Shots to Kill (Chest)  Shots to Kill (Head)  \\\n",
       "0         715.0         0.080                      4                     2   \n",
       "1         710.0         0.010                      4                     2   \n",
       "2         715.0         0.086                      4                     2   \n",
       "3         715.0         0.010                      4                     2   \n",
       "4         880.0         0.086                      4                     2   \n",
       "\n",
       "   Damage Per Second                 Fire Mode  BDMG_0  BDMG_1  BDMG_2  \\\n",
       "0              612.0  Single, Automatic, Burst    47.0    34.3    29.4   \n",
       "1              490.0         Single, Automatic    47.0    34.3    29.4   \n",
       "2              547.0  Single, Automatic, Burst    46.0    32.9    28.2   \n",
       "3              490.0             Single, Burst    49.0    34.3    29.4   \n",
       "4              502.0         Single, Automatic    41.0    30.1    25.8   \n",
       "\n",
       "   BDMG_3  HDMG_0  HDMG_1  HDMG_2  HDMG_3  \n",
       "0    22.0   115.1    80.6    69.0    51.8  \n",
       "1    22.0   115.1    80.6    69.0    51.8  \n",
       "2    21.1   110.4    77.3    66.2    49.7  \n",
       "3    22.0   115.1    80.6    69.0    51.8  \n",
       "4    19.3   101.0    70.7    60.6    45.4  "
      ]
     },
     "execution_count": 3,
     "metadata": {},
     "output_type": "execute_result"
    }
   ],
   "source": [
    "ab=pd.read_csv(r\"pubg-weapon-stats.csv\")\n",
    "ab.head()\n"
   ]
  },
  {
   "cell_type": "code",
   "execution_count": null,
   "metadata": {},
   "outputs": [],
   "source": []
  },
  {
   "cell_type": "code",
   "execution_count": 4,
   "metadata": {},
   "outputs": [
    {
     "data": {
      "text/html": [
       "<div>\n",
       "<style scoped>\n",
       "    .dataframe tbody tr th:only-of-type {\n",
       "        vertical-align: middle;\n",
       "    }\n",
       "\n",
       "    .dataframe tbody tr th {\n",
       "        vertical-align: top;\n",
       "    }\n",
       "\n",
       "    .dataframe thead th {\n",
       "        text-align: right;\n",
       "    }\n",
       "</style>\n",
       "<table border=\"1\" class=\"dataframe\">\n",
       "  <thead>\n",
       "    <tr style=\"text-align: right;\">\n",
       "      <th></th>\n",
       "      <th>Weapon Name</th>\n",
       "      <th>Weapon Type</th>\n",
       "      <th>Bullet Type</th>\n",
       "      <th>Damage</th>\n",
       "      <th>Magazine Capacity</th>\n",
       "      <th>Range</th>\n",
       "      <th>Bullet Speed</th>\n",
       "      <th>Rate of Fire</th>\n",
       "      <th>Shots to Kill (Chest)</th>\n",
       "      <th>Shots to Kill (Head)</th>\n",
       "      <th>Damage Per Second</th>\n",
       "      <th>Fire Mode</th>\n",
       "      <th>BDMG_0</th>\n",
       "      <th>BDMG_1</th>\n",
       "      <th>BDMG_2</th>\n",
       "      <th>BDMG_3</th>\n",
       "      <th>HDMG_0</th>\n",
       "      <th>HDMG_1</th>\n",
       "      <th>HDMG_2</th>\n",
       "      <th>HDMG_3</th>\n",
       "    </tr>\n",
       "  </thead>\n",
       "  <tbody>\n",
       "    <tr>\n",
       "      <th>0</th>\n",
       "      <td>Groza</td>\n",
       "      <td>Assault Rifle</td>\n",
       "      <td>7.62</td>\n",
       "      <td>49</td>\n",
       "      <td>30</td>\n",
       "      <td>400.0</td>\n",
       "      <td>715.0</td>\n",
       "      <td>0.080</td>\n",
       "      <td>4</td>\n",
       "      <td>2</td>\n",
       "      <td>612.0</td>\n",
       "      <td>Single, Automatic, Burst</td>\n",
       "      <td>47.0</td>\n",
       "      <td>34.3</td>\n",
       "      <td>29.4</td>\n",
       "      <td>22.0</td>\n",
       "      <td>115.1</td>\n",
       "      <td>80.6</td>\n",
       "      <td>69.0</td>\n",
       "      <td>51.8</td>\n",
       "    </tr>\n",
       "    <tr>\n",
       "      <th>1</th>\n",
       "      <td>AKM</td>\n",
       "      <td>Assault Rifle</td>\n",
       "      <td>7.62</td>\n",
       "      <td>49</td>\n",
       "      <td>30</td>\n",
       "      <td>400.0</td>\n",
       "      <td>710.0</td>\n",
       "      <td>0.010</td>\n",
       "      <td>4</td>\n",
       "      <td>2</td>\n",
       "      <td>490.0</td>\n",
       "      <td>Single, Automatic</td>\n",
       "      <td>47.0</td>\n",
       "      <td>34.3</td>\n",
       "      <td>29.4</td>\n",
       "      <td>22.0</td>\n",
       "      <td>115.1</td>\n",
       "      <td>80.6</td>\n",
       "      <td>69.0</td>\n",
       "      <td>51.8</td>\n",
       "    </tr>\n",
       "    <tr>\n",
       "      <th>2</th>\n",
       "      <td>M762</td>\n",
       "      <td>Assault Rifle</td>\n",
       "      <td>7.62</td>\n",
       "      <td>47</td>\n",
       "      <td>30</td>\n",
       "      <td>400.0</td>\n",
       "      <td>715.0</td>\n",
       "      <td>0.086</td>\n",
       "      <td>4</td>\n",
       "      <td>2</td>\n",
       "      <td>547.0</td>\n",
       "      <td>Single, Automatic, Burst</td>\n",
       "      <td>46.0</td>\n",
       "      <td>32.9</td>\n",
       "      <td>28.2</td>\n",
       "      <td>21.1</td>\n",
       "      <td>110.4</td>\n",
       "      <td>77.3</td>\n",
       "      <td>66.2</td>\n",
       "      <td>49.7</td>\n",
       "    </tr>\n",
       "    <tr>\n",
       "      <th>3</th>\n",
       "      <td>MK47 Mutant</td>\n",
       "      <td>Assault Rifle</td>\n",
       "      <td>7.62</td>\n",
       "      <td>49</td>\n",
       "      <td>30</td>\n",
       "      <td>500.0</td>\n",
       "      <td>715.0</td>\n",
       "      <td>0.010</td>\n",
       "      <td>4</td>\n",
       "      <td>2</td>\n",
       "      <td>490.0</td>\n",
       "      <td>Single, Burst</td>\n",
       "      <td>49.0</td>\n",
       "      <td>34.3</td>\n",
       "      <td>29.4</td>\n",
       "      <td>22.0</td>\n",
       "      <td>115.1</td>\n",
       "      <td>80.6</td>\n",
       "      <td>69.0</td>\n",
       "      <td>51.8</td>\n",
       "    </tr>\n",
       "  </tbody>\n",
       "</table>\n",
       "</div>"
      ],
      "text/plain": [
       "   Weapon Name    Weapon Type  Bullet Type  Damage  Magazine Capacity  Range  \\\n",
       "0        Groza  Assault Rifle         7.62      49                 30  400.0   \n",
       "1          AKM  Assault Rifle         7.62      49                 30  400.0   \n",
       "2         M762  Assault Rifle         7.62      47                 30  400.0   \n",
       "3  MK47 Mutant  Assault Rifle         7.62      49                 30  500.0   \n",
       "\n",
       "   Bullet Speed  Rate of Fire  Shots to Kill (Chest)  Shots to Kill (Head)  \\\n",
       "0         715.0         0.080                      4                     2   \n",
       "1         710.0         0.010                      4                     2   \n",
       "2         715.0         0.086                      4                     2   \n",
       "3         715.0         0.010                      4                     2   \n",
       "\n",
       "   Damage Per Second                 Fire Mode  BDMG_0  BDMG_1  BDMG_2  \\\n",
       "0              612.0  Single, Automatic, Burst    47.0    34.3    29.4   \n",
       "1              490.0         Single, Automatic    47.0    34.3    29.4   \n",
       "2              547.0  Single, Automatic, Burst    46.0    32.9    28.2   \n",
       "3              490.0             Single, Burst    49.0    34.3    29.4   \n",
       "\n",
       "   BDMG_3  HDMG_0  HDMG_1  HDMG_2  HDMG_3  \n",
       "0    22.0   115.1    80.6    69.0    51.8  \n",
       "1    22.0   115.1    80.6    69.0    51.8  \n",
       "2    21.1   110.4    77.3    66.2    49.7  \n",
       "3    22.0   115.1    80.6    69.0    51.8  "
      ]
     },
     "execution_count": 4,
     "metadata": {},
     "output_type": "execute_result"
    }
   ],
   "source": [
    "ab.head(4)"
   ]
  },
  {
   "cell_type": "code",
   "execution_count": 5,
   "metadata": {},
   "outputs": [
    {
     "data": {
      "text/html": [
       "<div>\n",
       "<style scoped>\n",
       "    .dataframe tbody tr th:only-of-type {\n",
       "        vertical-align: middle;\n",
       "    }\n",
       "\n",
       "    .dataframe tbody tr th {\n",
       "        vertical-align: top;\n",
       "    }\n",
       "\n",
       "    .dataframe thead th {\n",
       "        text-align: right;\n",
       "    }\n",
       "</style>\n",
       "<table border=\"1\" class=\"dataframe\">\n",
       "  <thead>\n",
       "    <tr style=\"text-align: right;\">\n",
       "      <th></th>\n",
       "      <th>Weapon Name</th>\n",
       "      <th>Weapon Type</th>\n",
       "      <th>Bullet Type</th>\n",
       "      <th>Damage</th>\n",
       "      <th>Magazine Capacity</th>\n",
       "      <th>Range</th>\n",
       "      <th>Bullet Speed</th>\n",
       "      <th>Rate of Fire</th>\n",
       "      <th>Shots to Kill (Chest)</th>\n",
       "      <th>Shots to Kill (Head)</th>\n",
       "      <th>Damage Per Second</th>\n",
       "      <th>Fire Mode</th>\n",
       "      <th>BDMG_0</th>\n",
       "      <th>BDMG_1</th>\n",
       "      <th>BDMG_2</th>\n",
       "      <th>BDMG_3</th>\n",
       "      <th>HDMG_0</th>\n",
       "      <th>HDMG_1</th>\n",
       "      <th>HDMG_2</th>\n",
       "      <th>HDMG_3</th>\n",
       "    </tr>\n",
       "  </thead>\n",
       "  <tbody>\n",
       "    <tr>\n",
       "      <th>41</th>\n",
       "      <td>Sickle</td>\n",
       "      <td>Melee</td>\n",
       "      <td>NaN</td>\n",
       "      <td>60</td>\n",
       "      <td>1</td>\n",
       "      <td>NaN</td>\n",
       "      <td>NaN</td>\n",
       "      <td>0.75</td>\n",
       "      <td>3</td>\n",
       "      <td>2</td>\n",
       "      <td>80.0</td>\n",
       "      <td>Single</td>\n",
       "      <td>NaN</td>\n",
       "      <td>NaN</td>\n",
       "      <td>NaN</td>\n",
       "      <td>NaN</td>\n",
       "      <td>NaN</td>\n",
       "      <td>NaN</td>\n",
       "      <td>NaN</td>\n",
       "      <td>NaN</td>\n",
       "    </tr>\n",
       "    <tr>\n",
       "      <th>42</th>\n",
       "      <td>Machete</td>\n",
       "      <td>Melee</td>\n",
       "      <td>NaN</td>\n",
       "      <td>60</td>\n",
       "      <td>1</td>\n",
       "      <td>NaN</td>\n",
       "      <td>NaN</td>\n",
       "      <td>0.75</td>\n",
       "      <td>3</td>\n",
       "      <td>2</td>\n",
       "      <td>80.0</td>\n",
       "      <td>Single</td>\n",
       "      <td>NaN</td>\n",
       "      <td>NaN</td>\n",
       "      <td>NaN</td>\n",
       "      <td>NaN</td>\n",
       "      <td>NaN</td>\n",
       "      <td>NaN</td>\n",
       "      <td>NaN</td>\n",
       "      <td>NaN</td>\n",
       "    </tr>\n",
       "    <tr>\n",
       "      <th>43</th>\n",
       "      <td>Punch</td>\n",
       "      <td>Melee</td>\n",
       "      <td>NaN</td>\n",
       "      <td>18</td>\n",
       "      <td>1</td>\n",
       "      <td>NaN</td>\n",
       "      <td>NaN</td>\n",
       "      <td>0.33</td>\n",
       "      <td>10</td>\n",
       "      <td>4</td>\n",
       "      <td>55.0</td>\n",
       "      <td>Single</td>\n",
       "      <td>NaN</td>\n",
       "      <td>NaN</td>\n",
       "      <td>NaN</td>\n",
       "      <td>NaN</td>\n",
       "      <td>NaN</td>\n",
       "      <td>NaN</td>\n",
       "      <td>NaN</td>\n",
       "      <td>NaN</td>\n",
       "    </tr>\n",
       "  </tbody>\n",
       "</table>\n",
       "</div>"
      ],
      "text/plain": [
       "   Weapon Name Weapon Type  Bullet Type  Damage  Magazine Capacity  Range  \\\n",
       "41      Sickle       Melee          NaN      60                  1    NaN   \n",
       "42     Machete       Melee          NaN      60                  1    NaN   \n",
       "43       Punch       Melee          NaN      18                  1    NaN   \n",
       "\n",
       "    Bullet Speed  Rate of Fire  Shots to Kill (Chest)  Shots to Kill (Head)  \\\n",
       "41           NaN          0.75                      3                     2   \n",
       "42           NaN          0.75                      3                     2   \n",
       "43           NaN          0.33                     10                     4   \n",
       "\n",
       "    Damage Per Second Fire Mode  BDMG_0  BDMG_1  BDMG_2  BDMG_3  HDMG_0  \\\n",
       "41               80.0    Single     NaN     NaN     NaN     NaN     NaN   \n",
       "42               80.0    Single     NaN     NaN     NaN     NaN     NaN   \n",
       "43               55.0    Single     NaN     NaN     NaN     NaN     NaN   \n",
       "\n",
       "    HDMG_1  HDMG_2  HDMG_3  \n",
       "41     NaN     NaN     NaN  \n",
       "42     NaN     NaN     NaN  \n",
       "43     NaN     NaN     NaN  "
      ]
     },
     "execution_count": 5,
     "metadata": {},
     "output_type": "execute_result"
    }
   ],
   "source": [
    "ab.tail(3)"
   ]
  },
  {
   "cell_type": "code",
   "execution_count": 6,
   "metadata": {},
   "outputs": [
    {
     "name": "stdout",
     "output_type": "stream",
     "text": [
      "<class 'pandas.core.frame.DataFrame'>\n",
      "RangeIndex: 44 entries, 0 to 43\n",
      "Data columns (total 20 columns):\n",
      " #   Column                 Non-Null Count  Dtype  \n",
      "---  ------                 --------------  -----  \n",
      " 0   Weapon Name            44 non-null     object \n",
      " 1   Weapon Type            44 non-null     object \n",
      " 2   Bullet Type            38 non-null     float64\n",
      " 3   Damage                 44 non-null     int64  \n",
      " 4   Magazine Capacity      44 non-null     int64  \n",
      " 5   Range                  38 non-null     float64\n",
      " 6   Bullet Speed           36 non-null     float64\n",
      " 7   Rate of Fire           44 non-null     float64\n",
      " 8   Shots to Kill (Chest)  44 non-null     int64  \n",
      " 9   Shots to Kill (Head)   44 non-null     int64  \n",
      " 10  Damage Per Second      44 non-null     float64\n",
      " 11  Fire Mode              44 non-null     object \n",
      " 12  BDMG_0                 37 non-null     float64\n",
      " 13  BDMG_1                 37 non-null     float64\n",
      " 14  BDMG_2                 37 non-null     float64\n",
      " 15  BDMG_3                 37 non-null     float64\n",
      " 16  HDMG_0                 37 non-null     float64\n",
      " 17  HDMG_1                 37 non-null     float64\n",
      " 18  HDMG_2                 37 non-null     float64\n",
      " 19  HDMG_3                 37 non-null     float64\n",
      "dtypes: float64(13), int64(4), object(3)\n",
      "memory usage: 7.0+ KB\n"
     ]
    }
   ],
   "source": [
    "ab.info()"
   ]
  },
  {
   "cell_type": "code",
   "execution_count": 7,
   "metadata": {},
   "outputs": [
    {
     "name": "stdout",
     "output_type": "stream",
     "text": [
      "ab:44\n"
     ]
    }
   ],
   "source": [
    "print(\"ab:{}\".format(len(ab.index)))"
   ]
  },
  {
   "cell_type": "code",
   "execution_count": 8,
   "metadata": {},
   "outputs": [
    {
     "data": {
      "text/plain": [
       "Weapon Name              False\n",
       "Weapon Type              False\n",
       "Bullet Type               True\n",
       "Damage                   False\n",
       "Magazine Capacity        False\n",
       "Range                     True\n",
       "Bullet Speed              True\n",
       "Rate of Fire             False\n",
       "Shots to Kill (Chest)    False\n",
       "Shots to Kill (Head)     False\n",
       "Damage Per Second        False\n",
       "Fire Mode                False\n",
       "BDMG_0                    True\n",
       "BDMG_1                    True\n",
       "BDMG_2                    True\n",
       "BDMG_3                    True\n",
       "HDMG_0                    True\n",
       "HDMG_1                    True\n",
       "HDMG_2                    True\n",
       "HDMG_3                    True\n",
       "dtype: bool"
      ]
     },
     "execution_count": 8,
     "metadata": {},
     "output_type": "execute_result"
    }
   ],
   "source": [
    "ab.isnull().any()"
   ]
  },
  {
   "cell_type": "code",
   "execution_count": 9,
   "metadata": {},
   "outputs": [
    {
     "data": {
      "text/plain": [
       "<AxesSubplot:>"
      ]
     },
     "execution_count": 9,
     "metadata": {},
     "output_type": "execute_result"
    },
    {
     "data": {
      "image/png": "[encoded data removed]",
      "text/plain": [
       "<Figure size 2000x1200 with 2 Axes>"
      ]
     },
     "metadata": {},
     "output_type": "display_data"
    }
   ],
   "source": [
    "mno.heatmap(ab)"
   ]
  },
  {
   "cell_type": "code",
   "execution_count": 10,
   "metadata": {},
   "outputs": [
    {
     "data": {
      "text/html": [
       "<div>\n",
       "<style scoped>\n",
       "    .dataframe tbody tr th:only-of-type {\n",
       "        vertical-align: middle;\n",
       "    }\n",
       "\n",
       "    .dataframe tbody tr th {\n",
       "        vertical-align: top;\n",
       "    }\n",
       "\n",
       "    .dataframe thead th {\n",
       "        text-align: right;\n",
       "    }\n",
       "</style>\n",
       "<table border=\"1\" class=\"dataframe\">\n",
       "  <thead>\n",
       "    <tr style=\"text-align: right;\">\n",
       "      <th></th>\n",
       "      <th>Weapon Name</th>\n",
       "      <th>Weapon Type</th>\n",
       "      <th>Bullet Type</th>\n",
       "      <th>Damage</th>\n",
       "      <th>Magazine Capacity</th>\n",
       "      <th>Range</th>\n",
       "      <th>Bullet Speed</th>\n",
       "      <th>Rate of Fire</th>\n",
       "      <th>Shots to Kill (Chest)</th>\n",
       "      <th>Shots to Kill (Head)</th>\n",
       "      <th>Damage Per Second</th>\n",
       "      <th>Fire Mode</th>\n",
       "      <th>BDMG_0</th>\n",
       "      <th>BDMG_1</th>\n",
       "      <th>BDMG_2</th>\n",
       "      <th>BDMG_3</th>\n",
       "      <th>HDMG_0</th>\n",
       "      <th>HDMG_1</th>\n",
       "      <th>HDMG_2</th>\n",
       "      <th>HDMG_3</th>\n",
       "    </tr>\n",
       "  </thead>\n",
       "  <tbody>\n",
       "    <tr>\n",
       "      <th>0</th>\n",
       "      <td>Groza</td>\n",
       "      <td>Assault Rifle</td>\n",
       "      <td>7.62</td>\n",
       "      <td>49</td>\n",
       "      <td>30</td>\n",
       "      <td>400.0</td>\n",
       "      <td>715.0</td>\n",
       "      <td>0.0800</td>\n",
       "      <td>4</td>\n",
       "      <td>2</td>\n",
       "      <td>612.00</td>\n",
       "      <td>Single, Automatic, Burst</td>\n",
       "      <td>47.0</td>\n",
       "      <td>34.3</td>\n",
       "      <td>29.4</td>\n",
       "      <td>22.0</td>\n",
       "      <td>115.1</td>\n",
       "      <td>80.6</td>\n",
       "      <td>69.0</td>\n",
       "      <td>51.8</td>\n",
       "    </tr>\n",
       "    <tr>\n",
       "      <th>1</th>\n",
       "      <td>AKM</td>\n",
       "      <td>Assault Rifle</td>\n",
       "      <td>7.62</td>\n",
       "      <td>49</td>\n",
       "      <td>30</td>\n",
       "      <td>400.0</td>\n",
       "      <td>710.0</td>\n",
       "      <td>0.0100</td>\n",
       "      <td>4</td>\n",
       "      <td>2</td>\n",
       "      <td>490.00</td>\n",
       "      <td>Single, Automatic</td>\n",
       "      <td>47.0</td>\n",
       "      <td>34.3</td>\n",
       "      <td>29.4</td>\n",
       "      <td>22.0</td>\n",
       "      <td>115.1</td>\n",
       "      <td>80.6</td>\n",
       "      <td>69.0</td>\n",
       "      <td>51.8</td>\n",
       "    </tr>\n",
       "    <tr>\n",
       "      <th>2</th>\n",
       "      <td>M762</td>\n",
       "      <td>Assault Rifle</td>\n",
       "      <td>7.62</td>\n",
       "      <td>47</td>\n",
       "      <td>30</td>\n",
       "      <td>400.0</td>\n",
       "      <td>715.0</td>\n",
       "      <td>0.0860</td>\n",
       "      <td>4</td>\n",
       "      <td>2</td>\n",
       "      <td>547.00</td>\n",
       "      <td>Single, Automatic, Burst</td>\n",
       "      <td>46.0</td>\n",
       "      <td>32.9</td>\n",
       "      <td>28.2</td>\n",
       "      <td>21.1</td>\n",
       "      <td>110.4</td>\n",
       "      <td>77.3</td>\n",
       "      <td>66.2</td>\n",
       "      <td>49.7</td>\n",
       "    </tr>\n",
       "    <tr>\n",
       "      <th>3</th>\n",
       "      <td>MK47 Mutant</td>\n",
       "      <td>Assault Rifle</td>\n",
       "      <td>7.62</td>\n",
       "      <td>49</td>\n",
       "      <td>30</td>\n",
       "      <td>500.0</td>\n",
       "      <td>715.0</td>\n",
       "      <td>0.0100</td>\n",
       "      <td>4</td>\n",
       "      <td>2</td>\n",
       "      <td>490.00</td>\n",
       "      <td>Single, Burst</td>\n",
       "      <td>49.0</td>\n",
       "      <td>34.3</td>\n",
       "      <td>29.4</td>\n",
       "      <td>22.0</td>\n",
       "      <td>115.1</td>\n",
       "      <td>80.6</td>\n",
       "      <td>69.0</td>\n",
       "      <td>51.8</td>\n",
       "    </tr>\n",
       "    <tr>\n",
       "      <th>4</th>\n",
       "      <td>AUG A3</td>\n",
       "      <td>Assault Rifle</td>\n",
       "      <td>5.56</td>\n",
       "      <td>43</td>\n",
       "      <td>30</td>\n",
       "      <td>600.0</td>\n",
       "      <td>880.0</td>\n",
       "      <td>0.0860</td>\n",
       "      <td>4</td>\n",
       "      <td>2</td>\n",
       "      <td>502.00</td>\n",
       "      <td>Single, Automatic</td>\n",
       "      <td>41.0</td>\n",
       "      <td>30.1</td>\n",
       "      <td>25.8</td>\n",
       "      <td>19.3</td>\n",
       "      <td>101.0</td>\n",
       "      <td>70.7</td>\n",
       "      <td>60.6</td>\n",
       "      <td>45.4</td>\n",
       "    </tr>\n",
       "    <tr>\n",
       "      <th>5</th>\n",
       "      <td>SCAR-L</td>\n",
       "      <td>Assault Rifle</td>\n",
       "      <td>5.56</td>\n",
       "      <td>43</td>\n",
       "      <td>30</td>\n",
       "      <td>600.0</td>\n",
       "      <td>880.0</td>\n",
       "      <td>0.0960</td>\n",
       "      <td>4</td>\n",
       "      <td>2</td>\n",
       "      <td>448.00</td>\n",
       "      <td>Single, Automatic</td>\n",
       "      <td>41.0</td>\n",
       "      <td>30.1</td>\n",
       "      <td>25.8</td>\n",
       "      <td>19.3</td>\n",
       "      <td>101.0</td>\n",
       "      <td>70.7</td>\n",
       "      <td>60.6</td>\n",
       "      <td>45.4</td>\n",
       "    </tr>\n",
       "    <tr>\n",
       "      <th>6</th>\n",
       "      <td>M416</td>\n",
       "      <td>Assault Rifle</td>\n",
       "      <td>5.56</td>\n",
       "      <td>43</td>\n",
       "      <td>30</td>\n",
       "      <td>600.0</td>\n",
       "      <td>890.0</td>\n",
       "      <td>0.0860</td>\n",
       "      <td>4</td>\n",
       "      <td>2</td>\n",
       "      <td>502.00</td>\n",
       "      <td>Single, Automatic</td>\n",
       "      <td>41.0</td>\n",
       "      <td>30.1</td>\n",
       "      <td>25.8</td>\n",
       "      <td>19.3</td>\n",
       "      <td>101.0</td>\n",
       "      <td>70.7</td>\n",
       "      <td>60.6</td>\n",
       "      <td>45.4</td>\n",
       "    </tr>\n",
       "    <tr>\n",
       "      <th>7</th>\n",
       "      <td>M16A4</td>\n",
       "      <td>Assault Rifle</td>\n",
       "      <td>5.56</td>\n",
       "      <td>43</td>\n",
       "      <td>30</td>\n",
       "      <td>600.0</td>\n",
       "      <td>900.0</td>\n",
       "      <td>0.0100</td>\n",
       "      <td>4</td>\n",
       "      <td>2</td>\n",
       "      <td>430.00</td>\n",
       "      <td>Single, Burst</td>\n",
       "      <td>43.0</td>\n",
       "      <td>30.1</td>\n",
       "      <td>25.8</td>\n",
       "      <td>19.3</td>\n",
       "      <td>101.0</td>\n",
       "      <td>70.7</td>\n",
       "      <td>60.6</td>\n",
       "      <td>45.4</td>\n",
       "    </tr>\n",
       "    <tr>\n",
       "      <th>8</th>\n",
       "      <td>G36C</td>\n",
       "      <td>Assault Rifle</td>\n",
       "      <td>5.56</td>\n",
       "      <td>43</td>\n",
       "      <td>30</td>\n",
       "      <td>600.0</td>\n",
       "      <td>880.0</td>\n",
       "      <td>0.0860</td>\n",
       "      <td>4</td>\n",
       "      <td>2</td>\n",
       "      <td>502.00</td>\n",
       "      <td>Single, Automatic</td>\n",
       "      <td>41.0</td>\n",
       "      <td>30.1</td>\n",
       "      <td>25.8</td>\n",
       "      <td>19.3</td>\n",
       "      <td>101.0</td>\n",
       "      <td>70.7</td>\n",
       "      <td>60.6</td>\n",
       "      <td>45.4</td>\n",
       "    </tr>\n",
       "    <tr>\n",
       "      <th>9</th>\n",
       "      <td>OBZ</td>\n",
       "      <td>Assault Rifle</td>\n",
       "      <td>5.56</td>\n",
       "      <td>43</td>\n",
       "      <td>30</td>\n",
       "      <td>600.0</td>\n",
       "      <td>880.0</td>\n",
       "      <td>0.0960</td>\n",
       "      <td>4</td>\n",
       "      <td>2</td>\n",
       "      <td>466.00</td>\n",
       "      <td>Single, Automatic</td>\n",
       "      <td>41.0</td>\n",
       "      <td>30.1</td>\n",
       "      <td>25.8</td>\n",
       "      <td>19.3</td>\n",
       "      <td>101.0</td>\n",
       "      <td>70.7</td>\n",
       "      <td>60.6</td>\n",
       "      <td>45.4</td>\n",
       "    </tr>\n",
       "    <tr>\n",
       "      <th>10</th>\n",
       "      <td>M249</td>\n",
       "      <td>Light Machine Gun</td>\n",
       "      <td>5.56</td>\n",
       "      <td>45</td>\n",
       "      <td>100</td>\n",
       "      <td>400.0</td>\n",
       "      <td>915.0</td>\n",
       "      <td>0.0750</td>\n",
       "      <td>4</td>\n",
       "      <td>2</td>\n",
       "      <td>600.00</td>\n",
       "      <td>Automatic</td>\n",
       "      <td>45.0</td>\n",
       "      <td>31.4</td>\n",
       "      <td>27.0</td>\n",
       "      <td>20.2</td>\n",
       "      <td>103.4</td>\n",
       "      <td>72.4</td>\n",
       "      <td>62.0</td>\n",
       "      <td>46.5</td>\n",
       "    </tr>\n",
       "    <tr>\n",
       "      <th>11</th>\n",
       "      <td>DP-28</td>\n",
       "      <td>Light Machine Gun</td>\n",
       "      <td>7.62</td>\n",
       "      <td>51</td>\n",
       "      <td>47</td>\n",
       "      <td>600.0</td>\n",
       "      <td>715.0</td>\n",
       "      <td>0.1090</td>\n",
       "      <td>4</td>\n",
       "      <td>2</td>\n",
       "      <td>468.00</td>\n",
       "      <td>Automatic</td>\n",
       "      <td>51.0</td>\n",
       "      <td>35.6</td>\n",
       "      <td>30.6</td>\n",
       "      <td>22.9</td>\n",
       "      <td>117.3</td>\n",
       "      <td>82.1</td>\n",
       "      <td>70.3</td>\n",
       "      <td>52.7</td>\n",
       "    </tr>\n",
       "    <tr>\n",
       "      <th>12</th>\n",
       "      <td>Vector</td>\n",
       "      <td>Submachine Gun</td>\n",
       "      <td>9.00</td>\n",
       "      <td>31</td>\n",
       "      <td>19</td>\n",
       "      <td>50.0</td>\n",
       "      <td>300.0</td>\n",
       "      <td>0.0550</td>\n",
       "      <td>5</td>\n",
       "      <td>3</td>\n",
       "      <td>569.00</td>\n",
       "      <td>Single, Automatic, Burst</td>\n",
       "      <td>31.0</td>\n",
       "      <td>21.7</td>\n",
       "      <td>18.5</td>\n",
       "      <td>13.9</td>\n",
       "      <td>55.8</td>\n",
       "      <td>39.0</td>\n",
       "      <td>33.4</td>\n",
       "      <td>25.1</td>\n",
       "    </tr>\n",
       "    <tr>\n",
       "      <th>13</th>\n",
       "      <td>Uzi</td>\n",
       "      <td>Submachine Gun</td>\n",
       "      <td>9.00</td>\n",
       "      <td>26</td>\n",
       "      <td>25</td>\n",
       "      <td>200.0</td>\n",
       "      <td>350.0</td>\n",
       "      <td>0.0480</td>\n",
       "      <td>7</td>\n",
       "      <td>4</td>\n",
       "      <td>542.00</td>\n",
       "      <td>Single, Automatic</td>\n",
       "      <td>26.0</td>\n",
       "      <td>18.2</td>\n",
       "      <td>15.6</td>\n",
       "      <td>11.7</td>\n",
       "      <td>46.8</td>\n",
       "      <td>32.7</td>\n",
       "      <td>28.0</td>\n",
       "      <td>21.0</td>\n",
       "    </tr>\n",
       "    <tr>\n",
       "      <th>14</th>\n",
       "      <td>PP-Bizon</td>\n",
       "      <td>Submachine Gun</td>\n",
       "      <td>9.00</td>\n",
       "      <td>35</td>\n",
       "      <td>53</td>\n",
       "      <td>300.0</td>\n",
       "      <td>300.0</td>\n",
       "      <td>0.0760</td>\n",
       "      <td>5</td>\n",
       "      <td>3</td>\n",
       "      <td>408.00</td>\n",
       "      <td>Single, Automatic</td>\n",
       "      <td>35.0</td>\n",
       "      <td>24.5</td>\n",
       "      <td>21.0</td>\n",
       "      <td>15.7</td>\n",
       "      <td>63.0</td>\n",
       "      <td>44.0</td>\n",
       "      <td>37.8</td>\n",
       "      <td>28.3</td>\n",
       "    </tr>\n",
       "    <tr>\n",
       "      <th>15</th>\n",
       "      <td>MP5K</td>\n",
       "      <td>Submachine Gun</td>\n",
       "      <td>9.00</td>\n",
       "      <td>33</td>\n",
       "      <td>30</td>\n",
       "      <td>200.0</td>\n",
       "      <td>330.0</td>\n",
       "      <td>0.0645</td>\n",
       "      <td>5</td>\n",
       "      <td>3</td>\n",
       "      <td>495.00</td>\n",
       "      <td>Single, Automatic, Burst</td>\n",
       "      <td>33.0</td>\n",
       "      <td>23.0</td>\n",
       "      <td>19.8</td>\n",
       "      <td>14.8</td>\n",
       "      <td>59.4</td>\n",
       "      <td>41.5</td>\n",
       "      <td>35.6</td>\n",
       "      <td>26.7</td>\n",
       "    </tr>\n",
       "    <tr>\n",
       "      <th>16</th>\n",
       "      <td>Thompson</td>\n",
       "      <td>Submachine Gun</td>\n",
       "      <td>0.45</td>\n",
       "      <td>40</td>\n",
       "      <td>30</td>\n",
       "      <td>200.0</td>\n",
       "      <td>280.0</td>\n",
       "      <td>0.0860</td>\n",
       "      <td>5</td>\n",
       "      <td>3</td>\n",
       "      <td>467.00</td>\n",
       "      <td>Single, Automatic</td>\n",
       "      <td>40.0</td>\n",
       "      <td>28.0</td>\n",
       "      <td>24.0</td>\n",
       "      <td>18.0</td>\n",
       "      <td>72.0</td>\n",
       "      <td>50.4</td>\n",
       "      <td>43.1</td>\n",
       "      <td>32.4</td>\n",
       "    </tr>\n",
       "    <tr>\n",
       "      <th>17</th>\n",
       "      <td>UMP45</td>\n",
       "      <td>Submachine Gun</td>\n",
       "      <td>0.45</td>\n",
       "      <td>39</td>\n",
       "      <td>25</td>\n",
       "      <td>300.0</td>\n",
       "      <td>250.0</td>\n",
       "      <td>0.0920</td>\n",
       "      <td>5</td>\n",
       "      <td>3</td>\n",
       "      <td>423.00</td>\n",
       "      <td>Single, Automatic, Burst</td>\n",
       "      <td>39.0</td>\n",
       "      <td>27.3</td>\n",
       "      <td>23.4</td>\n",
       "      <td>17.5</td>\n",
       "      <td>70.2</td>\n",
       "      <td>49.1</td>\n",
       "      <td>42.1</td>\n",
       "      <td>31.5</td>\n",
       "    </tr>\n",
       "    <tr>\n",
       "      <th>18</th>\n",
       "      <td>S686</td>\n",
       "      <td>Shotgun</td>\n",
       "      <td>12.00</td>\n",
       "      <td>216</td>\n",
       "      <td>2</td>\n",
       "      <td>25.0</td>\n",
       "      <td>370.0</td>\n",
       "      <td>0.2000</td>\n",
       "      <td>1</td>\n",
       "      <td>1</td>\n",
       "      <td>1080.00</td>\n",
       "      <td>Automatic</td>\n",
       "      <td>207.9</td>\n",
       "      <td>145.8</td>\n",
       "      <td>124.2</td>\n",
       "      <td>93.6</td>\n",
       "      <td>312.3</td>\n",
       "      <td>218.7</td>\n",
       "      <td>187.2</td>\n",
       "      <td>140.4</td>\n",
       "    </tr>\n",
       "    <tr>\n",
       "      <th>19</th>\n",
       "      <td>S1897</td>\n",
       "      <td>Shotgun</td>\n",
       "      <td>12.00</td>\n",
       "      <td>216</td>\n",
       "      <td>5</td>\n",
       "      <td>25.0</td>\n",
       "      <td>360.0</td>\n",
       "      <td>0.7000</td>\n",
       "      <td>1</td>\n",
       "      <td>1</td>\n",
       "      <td>288.00</td>\n",
       "      <td>Automatic</td>\n",
       "      <td>204.3</td>\n",
       "      <td>143.1</td>\n",
       "      <td>122.4</td>\n",
       "      <td>91.8</td>\n",
       "      <td>306.9</td>\n",
       "      <td>215.1</td>\n",
       "      <td>184.5</td>\n",
       "      <td>137.7</td>\n",
       "    </tr>\n",
       "    <tr>\n",
       "      <th>20</th>\n",
       "      <td>S12K</td>\n",
       "      <td>Shotgun</td>\n",
       "      <td>12.00</td>\n",
       "      <td>198</td>\n",
       "      <td>5</td>\n",
       "      <td>25.0</td>\n",
       "      <td>350.0</td>\n",
       "      <td>0.2500</td>\n",
       "      <td>1</td>\n",
       "      <td>1</td>\n",
       "      <td>792.00</td>\n",
       "      <td>Automatic</td>\n",
       "      <td>282.6</td>\n",
       "      <td>198.0</td>\n",
       "      <td>169.2</td>\n",
       "      <td>126.9</td>\n",
       "      <td>188.1</td>\n",
       "      <td>131.4</td>\n",
       "      <td>112.5</td>\n",
       "      <td>84.6</td>\n",
       "    </tr>\n",
       "    <tr>\n",
       "      <th>21</th>\n",
       "      <td>MK14</td>\n",
       "      <td>Designed Marksman Rifle</td>\n",
       "      <td>7.62</td>\n",
       "      <td>61</td>\n",
       "      <td>10</td>\n",
       "      <td>800.0</td>\n",
       "      <td>853.0</td>\n",
       "      <td>0.0900</td>\n",
       "      <td>3</td>\n",
       "      <td>2</td>\n",
       "      <td>678.00</td>\n",
       "      <td>Single, Automatic</td>\n",
       "      <td>64.0</td>\n",
       "      <td>44.8</td>\n",
       "      <td>38.4</td>\n",
       "      <td>28.8</td>\n",
       "      <td>143.3</td>\n",
       "      <td>100.3</td>\n",
       "      <td>86.0</td>\n",
       "      <td>64.5</td>\n",
       "    </tr>\n",
       "    <tr>\n",
       "      <th>22</th>\n",
       "      <td>SLR</td>\n",
       "      <td>Designed Marksman Rifle</td>\n",
       "      <td>7.62</td>\n",
       "      <td>56</td>\n",
       "      <td>10</td>\n",
       "      <td>800.0</td>\n",
       "      <td>835.0</td>\n",
       "      <td>0.0100</td>\n",
       "      <td>3</td>\n",
       "      <td>2</td>\n",
       "      <td>580.00</td>\n",
       "      <td>Automatic</td>\n",
       "      <td>60.9</td>\n",
       "      <td>42.6</td>\n",
       "      <td>36.5</td>\n",
       "      <td>27.4</td>\n",
       "      <td>136.3</td>\n",
       "      <td>95.4</td>\n",
       "      <td>81.7</td>\n",
       "      <td>61.3</td>\n",
       "    </tr>\n",
       "    <tr>\n",
       "      <th>23</th>\n",
       "      <td>SKS</td>\n",
       "      <td>Designed Marksman Rifle</td>\n",
       "      <td>7.62</td>\n",
       "      <td>53</td>\n",
       "      <td>10</td>\n",
       "      <td>800.0</td>\n",
       "      <td>800.0</td>\n",
       "      <td>0.0100</td>\n",
       "      <td>3</td>\n",
       "      <td>2</td>\n",
       "      <td>530.00</td>\n",
       "      <td>Automatic</td>\n",
       "      <td>55.6</td>\n",
       "      <td>38.9</td>\n",
       "      <td>33.3</td>\n",
       "      <td>25.0</td>\n",
       "      <td>124.5</td>\n",
       "      <td>87.1</td>\n",
       "      <td>74.7</td>\n",
       "      <td>56.0</td>\n",
       "    </tr>\n",
       "    <tr>\n",
       "      <th>24</th>\n",
       "      <td>QBU</td>\n",
       "      <td>Designed Marksman Rifle</td>\n",
       "      <td>5.56</td>\n",
       "      <td>48</td>\n",
       "      <td>10</td>\n",
       "      <td>800.0</td>\n",
       "      <td>800.0</td>\n",
       "      <td>0.0100</td>\n",
       "      <td>3</td>\n",
       "      <td>2</td>\n",
       "      <td>480.00</td>\n",
       "      <td>Automatic</td>\n",
       "      <td>50.4</td>\n",
       "      <td>35.2</td>\n",
       "      <td>30.2</td>\n",
       "      <td>22.6</td>\n",
       "      <td>112.8</td>\n",
       "      <td>78.9</td>\n",
       "      <td>67.6</td>\n",
       "      <td>50.7</td>\n",
       "    </tr>\n",
       "    <tr>\n",
       "      <th>25</th>\n",
       "      <td>Mini14</td>\n",
       "      <td>Designed Marksman Rifle</td>\n",
       "      <td>5.56</td>\n",
       "      <td>46</td>\n",
       "      <td>20</td>\n",
       "      <td>700.0</td>\n",
       "      <td>990.0</td>\n",
       "      <td>0.0100</td>\n",
       "      <td>3</td>\n",
       "      <td>2</td>\n",
       "      <td>460.00</td>\n",
       "      <td>Automatic</td>\n",
       "      <td>48.3</td>\n",
       "      <td>33.8</td>\n",
       "      <td>28.9</td>\n",
       "      <td>21.7</td>\n",
       "      <td>108.1</td>\n",
       "      <td>75.6</td>\n",
       "      <td>64.8</td>\n",
       "      <td>48.6</td>\n",
       "    </tr>\n",
       "    <tr>\n",
       "      <th>26</th>\n",
       "      <td>VSS</td>\n",
       "      <td>Designed Marksman Rifle</td>\n",
       "      <td>9.00</td>\n",
       "      <td>41</td>\n",
       "      <td>10</td>\n",
       "      <td>500.0</td>\n",
       "      <td>300.0</td>\n",
       "      <td>0.0100</td>\n",
       "      <td>3</td>\n",
       "      <td>2</td>\n",
       "      <td>479.00</td>\n",
       "      <td>Automatic</td>\n",
       "      <td>43.0</td>\n",
       "      <td>30.1</td>\n",
       "      <td>25.8</td>\n",
       "      <td>19.3</td>\n",
       "      <td>96.3</td>\n",
       "      <td>67.4</td>\n",
       "      <td>57.8</td>\n",
       "      <td>43.3</td>\n",
       "    </tr>\n",
       "    <tr>\n",
       "      <th>27</th>\n",
       "      <td>AWM</td>\n",
       "      <td>Sniper Rifle</td>\n",
       "      <td>0.30</td>\n",
       "      <td>105</td>\n",
       "      <td>5</td>\n",
       "      <td>900.0</td>\n",
       "      <td>910.0</td>\n",
       "      <td>1.8500</td>\n",
       "      <td>2</td>\n",
       "      <td>1</td>\n",
       "      <td>65.00</td>\n",
       "      <td>Single</td>\n",
       "      <td>136.5</td>\n",
       "      <td>95.5</td>\n",
       "      <td>81.8</td>\n",
       "      <td>61.4</td>\n",
       "      <td>262.5</td>\n",
       "      <td>183.7</td>\n",
       "      <td>157.5</td>\n",
       "      <td>118.1</td>\n",
       "    </tr>\n",
       "    <tr>\n",
       "      <th>28</th>\n",
       "      <td>M24</td>\n",
       "      <td>Sniper Rifle</td>\n",
       "      <td>7.62</td>\n",
       "      <td>79</td>\n",
       "      <td>5</td>\n",
       "      <td>800.0</td>\n",
       "      <td>790.0</td>\n",
       "      <td>1.8000</td>\n",
       "      <td>2</td>\n",
       "      <td>1</td>\n",
       "      <td>44.00</td>\n",
       "      <td>Single</td>\n",
       "      <td>86.9</td>\n",
       "      <td>60.8</td>\n",
       "      <td>52.0</td>\n",
       "      <td>39.1</td>\n",
       "      <td>197.0</td>\n",
       "      <td>138.0</td>\n",
       "      <td>118.0</td>\n",
       "      <td>89.0</td>\n",
       "    </tr>\n",
       "    <tr>\n",
       "      <th>29</th>\n",
       "      <td>Kar98</td>\n",
       "      <td>Sniper Rifle</td>\n",
       "      <td>7.62</td>\n",
       "      <td>75</td>\n",
       "      <td>5</td>\n",
       "      <td>800.0</td>\n",
       "      <td>760.0</td>\n",
       "      <td>1.9000</td>\n",
       "      <td>2</td>\n",
       "      <td>1</td>\n",
       "      <td>39.00</td>\n",
       "      <td>Single</td>\n",
       "      <td>102.7</td>\n",
       "      <td>71.8</td>\n",
       "      <td>61.6</td>\n",
       "      <td>46.2</td>\n",
       "      <td>197.5</td>\n",
       "      <td>138.2</td>\n",
       "      <td>118.5</td>\n",
       "      <td>88.8</td>\n",
       "    </tr>\n",
       "    <tr>\n",
       "      <th>30</th>\n",
       "      <td>Win94</td>\n",
       "      <td>Sniper Rifle</td>\n",
       "      <td>0.45</td>\n",
       "      <td>66</td>\n",
       "      <td>5</td>\n",
       "      <td>600.0</td>\n",
       "      <td>710.0</td>\n",
       "      <td>0.6000</td>\n",
       "      <td>2</td>\n",
       "      <td>2</td>\n",
       "      <td>110.00</td>\n",
       "      <td>Single</td>\n",
       "      <td>72.6</td>\n",
       "      <td>50.8</td>\n",
       "      <td>43.5</td>\n",
       "      <td>32.6</td>\n",
       "      <td>165.0</td>\n",
       "      <td>115.4</td>\n",
       "      <td>99.0</td>\n",
       "      <td>74.2</td>\n",
       "    </tr>\n",
       "    <tr>\n",
       "      <th>32</th>\n",
       "      <td>R1895</td>\n",
       "      <td>Pistol</td>\n",
       "      <td>7.62</td>\n",
       "      <td>55</td>\n",
       "      <td>7</td>\n",
       "      <td>25.0</td>\n",
       "      <td>330.0</td>\n",
       "      <td>0.4000</td>\n",
       "      <td>4</td>\n",
       "      <td>2</td>\n",
       "      <td>137.51</td>\n",
       "      <td>Automatic</td>\n",
       "      <td>54.8</td>\n",
       "      <td>38.3</td>\n",
       "      <td>32.8</td>\n",
       "      <td>24.6</td>\n",
       "      <td>109.6</td>\n",
       "      <td>76.7</td>\n",
       "      <td>65.7</td>\n",
       "      <td>49.3</td>\n",
       "    </tr>\n",
       "    <tr>\n",
       "      <th>34</th>\n",
       "      <td>P1911</td>\n",
       "      <td>Pistol</td>\n",
       "      <td>0.45</td>\n",
       "      <td>41</td>\n",
       "      <td>15</td>\n",
       "      <td>25.0</td>\n",
       "      <td>250.0</td>\n",
       "      <td>0.1100</td>\n",
       "      <td>5</td>\n",
       "      <td>3</td>\n",
       "      <td>373.00</td>\n",
       "      <td>Automatic</td>\n",
       "      <td>40.6</td>\n",
       "      <td>28.4</td>\n",
       "      <td>24.3</td>\n",
       "      <td>18.2</td>\n",
       "      <td>81.2</td>\n",
       "      <td>56.8</td>\n",
       "      <td>48.7</td>\n",
       "      <td>36.5</td>\n",
       "    </tr>\n",
       "    <tr>\n",
       "      <th>35</th>\n",
       "      <td>P92</td>\n",
       "      <td>Pistol</td>\n",
       "      <td>9.00</td>\n",
       "      <td>35</td>\n",
       "      <td>7</td>\n",
       "      <td>25.0</td>\n",
       "      <td>380.0</td>\n",
       "      <td>0.1400</td>\n",
       "      <td>5</td>\n",
       "      <td>3</td>\n",
       "      <td>259.00</td>\n",
       "      <td>Automatic</td>\n",
       "      <td>34.5</td>\n",
       "      <td>24.2</td>\n",
       "      <td>20.7</td>\n",
       "      <td>15.5</td>\n",
       "      <td>69.1</td>\n",
       "      <td>48.4</td>\n",
       "      <td>41.4</td>\n",
       "      <td>31.1</td>\n",
       "    </tr>\n",
       "    <tr>\n",
       "      <th>36</th>\n",
       "      <td>P18C</td>\n",
       "      <td>Pistol</td>\n",
       "      <td>9.00</td>\n",
       "      <td>23</td>\n",
       "      <td>17</td>\n",
       "      <td>25.0</td>\n",
       "      <td>375.0</td>\n",
       "      <td>0.0600</td>\n",
       "      <td>8</td>\n",
       "      <td>4</td>\n",
       "      <td>383.00</td>\n",
       "      <td>Automatic</td>\n",
       "      <td>22.4</td>\n",
       "      <td>15.7</td>\n",
       "      <td>13.4</td>\n",
       "      <td>10.1</td>\n",
       "      <td>44.9</td>\n",
       "      <td>31.4</td>\n",
       "      <td>26.9</td>\n",
       "      <td>20.2</td>\n",
       "    </tr>\n",
       "  </tbody>\n",
       "</table>\n",
       "</div>"
      ],
      "text/plain": [
       "    Weapon Name              Weapon Type  Bullet Type  Damage  \\\n",
       "0         Groza            Assault Rifle         7.62      49   \n",
       "1           AKM            Assault Rifle         7.62      49   \n",
       "2          M762            Assault Rifle         7.62      47   \n",
       "3   MK47 Mutant            Assault Rifle         7.62      49   \n",
       "4        AUG A3            Assault Rifle         5.56      43   \n",
       "5        SCAR-L            Assault Rifle         5.56      43   \n",
       "6          M416            Assault Rifle         5.56      43   \n",
       "7         M16A4            Assault Rifle         5.56      43   \n",
       "8          G36C            Assault Rifle         5.56      43   \n",
       "9           OBZ            Assault Rifle         5.56      43   \n",
       "10         M249        Light Machine Gun         5.56      45   \n",
       "11        DP-28        Light Machine Gun         7.62      51   \n",
       "12       Vector           Submachine Gun         9.00      31   \n",
       "13          Uzi           Submachine Gun         9.00      26   \n",
       "14     PP-Bizon           Submachine Gun         9.00      35   \n",
       "15         MP5K           Submachine Gun         9.00      33   \n",
       "16     Thompson           Submachine Gun         0.45      40   \n",
       "17        UMP45           Submachine Gun         0.45      39   \n",
       "18         S686                  Shotgun        12.00     216   \n",
       "19        S1897                  Shotgun        12.00     216   \n",
       "20         S12K                  Shotgun        12.00     198   \n",
       "21         MK14  Designed Marksman Rifle         7.62      61   \n",
       "22          SLR  Designed Marksman Rifle         7.62      56   \n",
       "23          SKS  Designed Marksman Rifle         7.62      53   \n",
       "24          QBU  Designed Marksman Rifle         5.56      48   \n",
       "25       Mini14  Designed Marksman Rifle         5.56      46   \n",
       "26          VSS  Designed Marksman Rifle         9.00      41   \n",
       "27          AWM             Sniper Rifle         0.30     105   \n",
       "28          M24             Sniper Rifle         7.62      79   \n",
       "29        Kar98             Sniper Rifle         7.62      75   \n",
       "30        Win94             Sniper Rifle         0.45      66   \n",
       "32        R1895                   Pistol         7.62      55   \n",
       "34        P1911                   Pistol         0.45      41   \n",
       "35          P92                   Pistol         9.00      35   \n",
       "36         P18C                   Pistol         9.00      23   \n",
       "\n",
       "    Magazine Capacity  Range  Bullet Speed  Rate of Fire  \\\n",
       "0                  30  400.0         715.0        0.0800   \n",
       "1                  30  400.0         710.0        0.0100   \n",
       "2                  30  400.0         715.0        0.0860   \n",
       "3                  30  500.0         715.0        0.0100   \n",
       "4                  30  600.0         880.0        0.0860   \n",
       "5                  30  600.0         880.0        0.0960   \n",
       "6                  30  600.0         890.0        0.0860   \n",
       "7                  30  600.0         900.0        0.0100   \n",
       "8                  30  600.0         880.0        0.0860   \n",
       "9                  30  600.0         880.0        0.0960   \n",
       "10                100  400.0         915.0        0.0750   \n",
       "11                 47  600.0         715.0        0.1090   \n",
       "12                 19   50.0         300.0        0.0550   \n",
       "13                 25  200.0         350.0        0.0480   \n",
       "14                 53  300.0         300.0        0.0760   \n",
       "15                 30  200.0         330.0        0.0645   \n",
       "16                 30  200.0         280.0        0.0860   \n",
       "17                 25  300.0         250.0        0.0920   \n",
       "18                  2   25.0         370.0        0.2000   \n",
       "19                  5   25.0         360.0        0.7000   \n",
       "20                  5   25.0         350.0        0.2500   \n",
       "21                 10  800.0         853.0        0.0900   \n",
       "22                 10  800.0         835.0        0.0100   \n",
       "23                 10  800.0         800.0        0.0100   \n",
       "24                 10  800.0         800.0        0.0100   \n",
       "25                 20  700.0         990.0        0.0100   \n",
       "26                 10  500.0         300.0        0.0100   \n",
       "27                  5  900.0         910.0        1.8500   \n",
       "28                  5  800.0         790.0        1.8000   \n",
       "29                  5  800.0         760.0        1.9000   \n",
       "30                  5  600.0         710.0        0.6000   \n",
       "32                  7   25.0         330.0        0.4000   \n",
       "34                 15   25.0         250.0        0.1100   \n",
       "35                  7   25.0         380.0        0.1400   \n",
       "36                 17   25.0         375.0        0.0600   \n",
       "\n",
       "    Shots to Kill (Chest)  Shots to Kill (Head)  Damage Per Second  \\\n",
       "0                       4                     2             612.00   \n",
       "1                       4                     2             490.00   \n",
       "2                       4                     2             547.00   \n",
       "3                       4                     2             490.00   \n",
       "4                       4                     2             502.00   \n",
       "5                       4                     2             448.00   \n",
       "6                       4                     2             502.00   \n",
       "7                       4                     2             430.00   \n",
       "8                       4                     2             502.00   \n",
       "9                       4                     2             466.00   \n",
       "10                      4                     2             600.00   \n",
       "11                      4                     2             468.00   \n",
       "12                      5                     3             569.00   \n",
       "13                      7                     4             542.00   \n",
       "14                      5                     3             408.00   \n",
       "15                      5                     3             495.00   \n",
       "16                      5                     3             467.00   \n",
       "17                      5                     3             423.00   \n",
       "18                      1                     1            1080.00   \n",
       "19                      1                     1             288.00   \n",
       "20                      1                     1             792.00   \n",
       "21                      3                     2             678.00   \n",
       "22                      3                     2             580.00   \n",
       "23                      3                     2             530.00   \n",
       "24                      3                     2             480.00   \n",
       "25                      3                     2             460.00   \n",
       "26                      3                     2             479.00   \n",
       "27                      2                     1              65.00   \n",
       "28                      2                     1              44.00   \n",
       "29                      2                     1              39.00   \n",
       "30                      2                     2             110.00   \n",
       "32                      4                     2             137.51   \n",
       "34                      5                     3             373.00   \n",
       "35                      5                     3             259.00   \n",
       "36                      8                     4             383.00   \n",
       "\n",
       "                   Fire Mode  BDMG_0  BDMG_1  BDMG_2  BDMG_3  HDMG_0  HDMG_1  \\\n",
       "0   Single, Automatic, Burst    47.0    34.3    29.4    22.0   115.1    80.6   \n",
       "1          Single, Automatic    47.0    34.3    29.4    22.0   115.1    80.6   \n",
       "2   Single, Automatic, Burst    46.0    32.9    28.2    21.1   110.4    77.3   \n",
       "3              Single, Burst    49.0    34.3    29.4    22.0   115.1    80.6   \n",
       "4          Single, Automatic    41.0    30.1    25.8    19.3   101.0    70.7   \n",
       "5          Single, Automatic    41.0    30.1    25.8    19.3   101.0    70.7   \n",
       "6          Single, Automatic    41.0    30.1    25.8    19.3   101.0    70.7   \n",
       "7              Single, Burst    43.0    30.1    25.8    19.3   101.0    70.7   \n",
       "8          Single, Automatic    41.0    30.1    25.8    19.3   101.0    70.7   \n",
       "9          Single, Automatic    41.0    30.1    25.8    19.3   101.0    70.7   \n",
       "10                 Automatic    45.0    31.4    27.0    20.2   103.4    72.4   \n",
       "11                 Automatic    51.0    35.6    30.6    22.9   117.3    82.1   \n",
       "12  Single, Automatic, Burst    31.0    21.7    18.5    13.9    55.8    39.0   \n",
       "13         Single, Automatic    26.0    18.2    15.6    11.7    46.8    32.7   \n",
       "14         Single, Automatic    35.0    24.5    21.0    15.7    63.0    44.0   \n",
       "15  Single, Automatic, Burst    33.0    23.0    19.8    14.8    59.4    41.5   \n",
       "16         Single, Automatic    40.0    28.0    24.0    18.0    72.0    50.4   \n",
       "17  Single, Automatic, Burst    39.0    27.3    23.4    17.5    70.2    49.1   \n",
       "18                 Automatic   207.9   145.8   124.2    93.6   312.3   218.7   \n",
       "19                 Automatic   204.3   143.1   122.4    91.8   306.9   215.1   \n",
       "20                 Automatic   282.6   198.0   169.2   126.9   188.1   131.4   \n",
       "21         Single, Automatic    64.0    44.8    38.4    28.8   143.3   100.3   \n",
       "22                 Automatic    60.9    42.6    36.5    27.4   136.3    95.4   \n",
       "23                 Automatic    55.6    38.9    33.3    25.0   124.5    87.1   \n",
       "24                 Automatic    50.4    35.2    30.2    22.6   112.8    78.9   \n",
       "25                 Automatic    48.3    33.8    28.9    21.7   108.1    75.6   \n",
       "26                 Automatic    43.0    30.1    25.8    19.3    96.3    67.4   \n",
       "27                    Single   136.5    95.5    81.8    61.4   262.5   183.7   \n",
       "28                    Single    86.9    60.8    52.0    39.1   197.0   138.0   \n",
       "29                    Single   102.7    71.8    61.6    46.2   197.5   138.2   \n",
       "30                    Single    72.6    50.8    43.5    32.6   165.0   115.4   \n",
       "32                 Automatic    54.8    38.3    32.8    24.6   109.6    76.7   \n",
       "34                 Automatic    40.6    28.4    24.3    18.2    81.2    56.8   \n",
       "35                 Automatic    34.5    24.2    20.7    15.5    69.1    48.4   \n",
       "36                 Automatic    22.4    15.7    13.4    10.1    44.9    31.4   \n",
       "\n",
       "    HDMG_2  HDMG_3  \n",
       "0     69.0    51.8  \n",
       "1     69.0    51.8  \n",
       "2     66.2    49.7  \n",
       "3     69.0    51.8  \n",
       "4     60.6    45.4  \n",
       "5     60.6    45.4  \n",
       "6     60.6    45.4  \n",
       "7     60.6    45.4  \n",
       "8     60.6    45.4  \n",
       "9     60.6    45.4  \n",
       "10    62.0    46.5  \n",
       "11    70.3    52.7  \n",
       "12    33.4    25.1  \n",
       "13    28.0    21.0  \n",
       "14    37.8    28.3  \n",
       "15    35.6    26.7  \n",
       "16    43.1    32.4  \n",
       "17    42.1    31.5  \n",
       "18   187.2   140.4  \n",
       "19   184.5   137.7  \n",
       "20   112.5    84.6  \n",
       "21    86.0    64.5  \n",
       "22    81.7    61.3  \n",
       "23    74.7    56.0  \n",
       "24    67.6    50.7  \n",
       "25    64.8    48.6  \n",
       "26    57.8    43.3  \n",
       "27   157.5   118.1  \n",
       "28   118.0    89.0  \n",
       "29   118.5    88.8  \n",
       "30    99.0    74.2  \n",
       "32    65.7    49.3  \n",
       "34    48.7    36.5  \n",
       "35    41.4    31.1  \n",
       "36    26.9    20.2  "
      ]
     },
     "execution_count": 10,
     "metadata": {},
     "output_type": "execute_result"
    }
   ],
   "source": [
    "ab.dropna(axis=0,inplace=True)\n",
    "ab"
   ]
  },
  {
   "cell_type": "code",
   "execution_count": 83,
   "metadata": {},
   "outputs": [
    {
     "ename": "AttributeError",
     "evalue": "module 'matplotlib.pyplot' has no attribute 'ylable'",
     "output_type": "error",
     "traceback": [
      "\u001b[1;31m---------------------------------------------------------------------------\u001b[0m",
      "\u001b[1;31mAttributeError\u001b[0m                            Traceback (most recent call last)",
      "\u001b[1;32m~\\AppData\\Local\\Temp\\ipykernel_13324\\2238759957.py\u001b[0m in \u001b[0;36m<module>\u001b[1;34m\u001b[0m\n\u001b[0;32m      2\u001b[0m \u001b[0mplt\u001b[0m\u001b[1;33m.\u001b[0m\u001b[0mhist\u001b[0m\u001b[1;33m(\u001b[0m\u001b[0mab\u001b[0m\u001b[1;33m[\u001b[0m\u001b[1;34m'Weapon Type'\u001b[0m\u001b[1;33m]\u001b[0m\u001b[1;33m,\u001b[0m\u001b[0mbins\u001b[0m\u001b[1;33m=\u001b[0m\u001b[1;36m15\u001b[0m\u001b[1;33m,\u001b[0m\u001b[0mcolor\u001b[0m\u001b[1;33m=\u001b[0m\u001b[1;34m'blue'\u001b[0m\u001b[1;33m)\u001b[0m\u001b[1;33m\u001b[0m\u001b[0m\n\u001b[0;32m      3\u001b[0m \u001b[0mplt\u001b[0m\u001b[1;33m.\u001b[0m\u001b[0mxlabel\u001b[0m\u001b[1;33m(\u001b[0m\u001b[1;34m'Weapon Type'\u001b[0m\u001b[1;33m)\u001b[0m\u001b[1;33m\u001b[0m\u001b[0m\n\u001b[1;32m----> 4\u001b[1;33m \u001b[0mplt\u001b[0m\u001b[1;33m.\u001b[0m\u001b[0mylable\u001b[0m\u001b[1;33m(\u001b[0m\u001b[1;34m'frequency'\u001b[0m\u001b[1;33m)\u001b[0m\u001b[1;33m\u001b[0m\u001b[0m\n\u001b[0m\u001b[0;32m      5\u001b[0m \u001b[0mplt\u001b[0m\u001b[1;33m.\u001b[0m\u001b[0mtitle\u001b[0m\u001b[1;33m(\u001b[0m\u001b[1;34m'No. of guns'\u001b[0m\u001b[1;33m)\u001b[0m\u001b[1;33m\u001b[0m\u001b[0m\n\u001b[0;32m      6\u001b[0m \u001b[1;33m\u001b[0m\u001b[0m\n",
      "\u001b[1;31mAttributeError\u001b[0m: module 'matplotlib.pyplot' has no attribute 'ylable'"
     ]
    },
    {
     "data": {
      "image/png": "[encoded data removed]",
      "text/plain": [
       "<Figure size 1500x500 with 1 Axes>"
      ]
     },
     "metadata": {},
     "output_type": "display_data"
    }
   ],
   "source": [
    "plt.figure(figsize=(15,5))\n",
    "plt.hist(ab['Weapon Type'],bins=15,color='blue')\n",
    "plt.xlabel('Weapon Type')\n",
    "plt.ylable('frequency')\n",
    "plt.title('No. of guns')\n",
    "\n"
   ]
  },
  {
   "cell_type": "code",
   "execution_count": null,
   "metadata": {},
   "outputs": [
    {
     "data": {
      "text/plain": [
       "Text(0.5, 1.0, 'Magazine Capacity')"
      ]
     },
     "execution_count": 39,
     "metadata": {},
     "output_type": "execute_result"
    },
    {
     "data": {
      "image/png": "[encoded data removed]",
      "text/plain": [
       "<Figure size 1500x600 with 1 Axes>"
      ]
     },
     "metadata": {},
     "output_type": "display_data"
    }
   ],
   "source": [
    "plt.figure(figsize=(15,6))\n",
    "sns.countplot(x='Magazine Capacity',data=ab)\n",
    "plt.title('Magazine Capacity')"
   ]
  },
  {
   "cell_type": "code",
   "execution_count": 15,
   "metadata": {},
   "outputs": [
    {
     "data": {
      "text/plain": [
       "<AxesSubplot:xlabel='Weapon Type', ylabel='Magazine Capacity'>"
      ]
     },
     "execution_count": 15,
     "metadata": {},
     "output_type": "execute_result"
    },
    {
     "data": {
      "image/png": "[encoded data removed]",
      "text/plain": [
       "<Figure size 1400x500 with 1 Axes>"
      ]
     },
     "metadata": {},
     "output_type": "display_data"
    }
   ],
   "source": [
    "plt.figure(figsize=(14,5))\n",
    "sns.barplot(x='Weapon Type',y='Magazine Capacity',data=ab)"
   ]
  },
  {
   "cell_type": "code",
   "execution_count": 18,
   "metadata": {},
   "outputs": [
    {
     "data": {
      "text/plain": [
       "<matplotlib.legend.Legend at 0x15e52b28668>"
      ]
     },
     "execution_count": 18,
     "metadata": {},
     "output_type": "execute_result"
    },
    {
     "data": {
      "image/png": "[encoded data removed]",
      "text/plain": [
       "<Figure size 1500x500 with 1 Axes>"
      ]
     },
     "metadata": {},
     "output_type": "display_data"
    }
   ],
   "source": [
    "plt.figure(figsize=(15,5))\n",
    "plt.bar(ab['Weapon Type'],ab['Range'],label='Range')\n",
    "plt.bar(ab['Weapon Type'],ab['BDMG_0'],label='HEADDamage')\n",
    "plt.xlabel( 'Range & body Damage')\n",
    "plt.ylabel('Comparsion between Range & body Damage')\n",
    "plt.legend()\n"
   ]
  },
  {
   "cell_type": "code",
   "execution_count": 25,
   "metadata": {},
   "outputs": [
    {
     "data": {
      "text/plain": [
       "<matplotlib.legend.Legend at 0x15e527fd1d0>"
      ]
     },
     "execution_count": 25,
     "metadata": {},
     "output_type": "execute_result"
    },
    {
     "data": {
      "image/png": "[encoded data removed]",
      "text/plain": [
       "<Figure size 1500x500 with 1 Axes>"
      ]
     },
     "metadata": {},
     "output_type": "display_data"
    }
   ],
   "source": [
    "plt.figure(figsize=(15,5))\n",
    "plt.bar(ab['Weapon Type'],ab['Range'],label='Range',color='black')\n",
    "plt.bar(ab['Weapon Type'],ab['HDMG_0'],label='HEADDamage',color='r')\n",
    "plt.xlabel( 'Range & body Damage')\n",
    "plt.ylabel('Comparsion between Range & HeadDamage')\n",
    "plt.legend()\n"
   ]
  },
  {
   "cell_type": "code",
   "execution_count": 27,
   "metadata": {},
   "outputs": [
    {
     "data": {
      "application/vnd.plotly.v1+json": {
       "config": {
        "plotlyServerURL": "https://plot.ly"
       },
       "data": [
        {
         "alignmentgroup": "True",
         "hovertemplate": "variable=BDMG_0<br>Weapon Type=%{x}<br>Damage=%{y}<extra></extra>",
         "legendgroup": "BDMG_0",
         "marker": {
          "color": "#636efa",
          "pattern": {
           "shape": ""
          }
         },
         "name": "BDMG_0",
         "offsetgroup": "BDMG_0",
         "orientation": "v",
         "showlegend": true,
         "textposition": "auto",
         "type": "bar",
         "x": [
          "Assault Rifle",
          "Assault Rifle",
          "Assault Rifle",
          "Assault Rifle",
          "Assault Rifle",
          "Assault Rifle",
          "Assault Rifle",
          "Assault Rifle",
          "Assault Rifle",
          "Assault Rifle",
          "Light Machine Gun",
          "Light Machine Gun",
          "Submachine Gun",
          "Submachine Gun",
          "Submachine Gun",
          "Submachine Gun",
          "Submachine Gun",
          "Submachine Gun",
          "Shotgun",
          "Shotgun",
          "Shotgun",
          "Designed Marksman Rifle",
          "Designed Marksman Rifle",
          "Designed Marksman Rifle",
          "Designed Marksman Rifle",
          "Designed Marksman Rifle",
          "Designed Marksman Rifle",
          "Sniper Rifle",
          "Sniper Rifle",
          "Sniper Rifle",
          "Sniper Rifle",
          "Pistol",
          "Pistol",
          "Pistol",
          "Pistol"
         ],
         "xaxis": "x",
         "y": [
          47,
          47,
          46,
          49,
          41,
          41,
          41,
          43,
          41,
          41,
          45,
          51,
          31,
          26,
          35,
          33,
          40,
          39,
          207.9,
          204.3,
          282.6,
          64,
          60.9,
          55.6,
          50.4,
          48.3,
          43,
          136.5,
          86.9,
          102.7,
          72.6,
          54.8,
          40.6,
          34.5,
          22.4
         ],
         "yaxis": "y"
        },
        {
         "alignmentgroup": "True",
         "hovertemplate": "variable=BDMG_1<br>Weapon Type=%{x}<br>Damage=%{y}<extra></extra>",
         "legendgroup": "BDMG_1",
         "marker": {
          "color": "#EF553B",
          "pattern": {
           "shape": ""
          }
         },
         "name": "BDMG_1",
         "offsetgroup": "BDMG_1",
         "orientation": "v",
         "showlegend": true,
         "textposition": "auto",
         "type": "bar",
         "x": [
          "Assault Rifle",
          "Assault Rifle",
          "Assault Rifle",
          "Assault Rifle",
          "Assault Rifle",
          "Assault Rifle",
          "Assault Rifle",
          "Assault Rifle",
          "Assault Rifle",
          "Assault Rifle",
          "Light Machine Gun",
          "Light Machine Gun",
          "Submachine Gun",
          "Submachine Gun",
          "Submachine Gun",
          "Submachine Gun",
          "Submachine Gun",
          "Submachine Gun",
          "Shotgun",
          "Shotgun",
          "Shotgun",
          "Designed Marksman Rifle",
          "Designed Marksman Rifle",
          "Designed Marksman Rifle",
          "Designed Marksman Rifle",
          "Designed Marksman Rifle",
          "Designed Marksman Rifle",
          "Sniper Rifle",
          "Sniper Rifle",
          "Sniper Rifle",
          "Sniper Rifle",
          "Pistol",
          "Pistol",
          "Pistol",
          "Pistol"
         ],
         "xaxis": "x",
         "y": [
          34.3,
          34.3,
          32.9,
          34.3,
          30.1,
          30.1,
          30.1,
          30.1,
          30.1,
          30.1,
          31.4,
          35.6,
          21.7,
          18.2,
          24.5,
          23,
          28,
          27.3,
          145.8,
          143.1,
          198,
          44.8,
          42.6,
          38.9,
          35.2,
          33.8,
          30.1,
          95.5,
          60.8,
          71.8,
          50.8,
          38.3,
          28.4,
          24.2,
          15.7
         ],
         "yaxis": "y"
        },
        {
         "alignmentgroup": "True",
         "hovertemplate": "variable=BDMG_2<br>Weapon Type=%{x}<br>Damage=%{y}<extra></extra>",
         "legendgroup": "BDMG_2",
         "marker": {
          "color": "#00cc96",
          "pattern": {
           "shape": ""
          }
         },
         "name": "BDMG_2",
         "offsetgroup": "BDMG_2",
         "orientation": "v",
         "showlegend": true,
         "textposition": "auto",
         "type": "bar",
         "x": [
          "Assault Rifle",
          "Assault Rifle",
          "Assault Rifle",
          "Assault Rifle",
          "Assault Rifle",
          "Assault Rifle",
          "Assault Rifle",
          "Assault Rifle",
          "Assault Rifle",
          "Assault Rifle",
          "Light Machine Gun",
          "Light Machine Gun",
          "Submachine Gun",
          "Submachine Gun",
          "Submachine Gun",
          "Submachine Gun",
          "Submachine Gun",
          "Submachine Gun",
          "Shotgun",
          "Shotgun",
          "Shotgun",
          "Designed Marksman Rifle",
          "Designed Marksman Rifle",
          "Designed Marksman Rifle",
          "Designed Marksman Rifle",
          "Designed Marksman Rifle",
          "Designed Marksman Rifle",
          "Sniper Rifle",
          "Sniper Rifle",
          "Sniper Rifle",
          "Sniper Rifle",
          "Pistol",
          "Pistol",
          "Pistol",
          "Pistol"
         ],
         "xaxis": "x",
         "y": [
          29.4,
          29.4,
          28.2,
          29.4,
          25.8,
          25.8,
          25.8,
          25.8,
          25.8,
          25.8,
          27,
          30.6,
          18.5,
          15.6,
          21,
          19.8,
          24,
          23.4,
          124.2,
          122.4,
          169.2,
          38.4,
          36.5,
          33.3,
          30.2,
          28.9,
          25.8,
          81.8,
          52,
          61.6,
          43.5,
          32.8,
          24.3,
          20.7,
          13.4
         ],
         "yaxis": "y"
        },
        {
         "alignmentgroup": "True",
         "hovertemplate": "variable=HDMG_0<br>Weapon Type=%{x}<br>Damage=%{y}<extra></extra>",
         "legendgroup": "HDMG_0",
         "marker": {
          "color": "#ab63fa",
          "pattern": {
           "shape": ""
          }
         },
         "name": "HDMG_0",
         "offsetgroup": "HDMG_0",
         "orientation": "v",
         "showlegend": true,
         "textposition": "auto",
         "type": "bar",
         "x": [
          "Assault Rifle",
          "Assault Rifle",
          "Assault Rifle",
          "Assault Rifle",
          "Assault Rifle",
          "Assault Rifle",
          "Assault Rifle",
          "Assault Rifle",
          "Assault Rifle",
          "Assault Rifle",
          "Light Machine Gun",
          "Light Machine Gun",
          "Submachine Gun",
          "Submachine Gun",
          "Submachine Gun",
          "Submachine Gun",
          "Submachine Gun",
          "Submachine Gun",
          "Shotgun",
          "Shotgun",
          "Shotgun",
          "Designed Marksman Rifle",
          "Designed Marksman Rifle",
          "Designed Marksman Rifle",
          "Designed Marksman Rifle",
          "Designed Marksman Rifle",
          "Designed Marksman Rifle",
          "Sniper Rifle",
          "Sniper Rifle",
          "Sniper Rifle",
          "Sniper Rifle",
          "Pistol",
          "Pistol",
          "Pistol",
          "Pistol"
         ],
         "xaxis": "x",
         "y": [
          115.1,
          115.1,
          110.4,
          115.1,
          101,
          101,
          101,
          101,
          101,
          101,
          103.4,
          117.3,
          55.8,
          46.8,
          63,
          59.4,
          72,
          70.2,
          312.3,
          306.9,
          188.1,
          143.3,
          136.3,
          124.5,
          112.8,
          108.1,
          96.3,
          262.5,
          197,
          197.5,
          165,
          109.6,
          81.2,
          69.1,
          44.9
         ],
         "yaxis": "y"
        },
        {
         "alignmentgroup": "True",
         "hovertemplate": "variable=HDMG_1<br>Weapon Type=%{x}<br>Damage=%{y}<extra></extra>",
         "legendgroup": "HDMG_1",
         "marker": {
          "color": "#FFA15A",
          "pattern": {
           "shape": ""
          }
         },
         "name": "HDMG_1",
         "offsetgroup": "HDMG_1",
         "orientation": "v",
         "showlegend": true,
         "textposition": "auto",
         "type": "bar",
         "x": [
          "Assault Rifle",
          "Assault Rifle",
          "Assault Rifle",
          "Assault Rifle",
          "Assault Rifle",
          "Assault Rifle",
          "Assault Rifle",
          "Assault Rifle",
          "Assault Rifle",
          "Assault Rifle",
          "Light Machine Gun",
          "Light Machine Gun",
          "Submachine Gun",
          "Submachine Gun",
          "Submachine Gun",
          "Submachine Gun",
          "Submachine Gun",
          "Submachine Gun",
          "Shotgun",
          "Shotgun",
          "Shotgun",
          "Designed Marksman Rifle",
          "Designed Marksman Rifle",
          "Designed Marksman Rifle",
          "Designed Marksman Rifle",
          "Designed Marksman Rifle",
          "Designed Marksman Rifle",
          "Sniper Rifle",
          "Sniper Rifle",
          "Sniper Rifle",
          "Sniper Rifle",
          "Pistol",
          "Pistol",
          "Pistol",
          "Pistol"
         ],
         "xaxis": "x",
         "y": [
          80.6,
          80.6,
          77.3,
          80.6,
          70.7,
          70.7,
          70.7,
          70.7,
          70.7,
          70.7,
          72.4,
          82.1,
          39,
          32.7,
          44,
          41.5,
          50.4,
          49.1,
          218.7,
          215.1,
          131.4,
          100.3,
          95.4,
          87.1,
          78.9,
          75.6,
          67.4,
          183.7,
          138,
          138.2,
          115.4,
          76.7,
          56.8,
          48.4,
          31.4
         ],
         "yaxis": "y"
        },
        {
         "alignmentgroup": "True",
         "hovertemplate": "variable=HDMG_2<br>Weapon Type=%{x}<br>Damage=%{y}<extra></extra>",
         "legendgroup": "HDMG_2",
         "marker": {
          "color": "#19d3f3",
          "pattern": {
           "shape": ""
          }
         },
         "name": "HDMG_2",
         "offsetgroup": "HDMG_2",
         "orientation": "v",
         "showlegend": true,
         "textposition": "auto",
         "type": "bar",
         "x": [
          "Assault Rifle",
          "Assault Rifle",
          "Assault Rifle",
          "Assault Rifle",
          "Assault Rifle",
          "Assault Rifle",
          "Assault Rifle",
          "Assault Rifle",
          "Assault Rifle",
          "Assault Rifle",
          "Light Machine Gun",
          "Light Machine Gun",
          "Submachine Gun",
          "Submachine Gun",
          "Submachine Gun",
          "Submachine Gun",
          "Submachine Gun",
          "Submachine Gun",
          "Shotgun",
          "Shotgun",
          "Shotgun",
          "Designed Marksman Rifle",
          "Designed Marksman Rifle",
          "Designed Marksman Rifle",
          "Designed Marksman Rifle",
          "Designed Marksman Rifle",
          "Designed Marksman Rifle",
          "Sniper Rifle",
          "Sniper Rifle",
          "Sniper Rifle",
          "Sniper Rifle",
          "Pistol",
          "Pistol",
          "Pistol",
          "Pistol"
         ],
         "xaxis": "x",
         "y": [
          69,
          69,
          66.2,
          69,
          60.6,
          60.6,
          60.6,
          60.6,
          60.6,
          60.6,
          62,
          70.3,
          33.4,
          28,
          37.8,
          35.6,
          43.1,
          42.1,
          187.2,
          184.5,
          112.5,
          86,
          81.7,
          74.7,
          67.6,
          64.8,
          57.8,
          157.5,
          118,
          118.5,
          99,
          65.7,
          48.7,
          41.4,
          26.9
         ],
         "yaxis": "y"
        }
       ],
       "layout": {
        "barmode": "group",
        "legend": {
         "title": {
          "text": "variable"
         },
         "tracegroupgap": 0
        },
        "margin": {
         "t": 60
        },
        "template": {
         "data": {
          "bar": [
           {
            "error_x": {
             "color": "#2a3f5f"
            },
            "error_y": {
             "color": "#2a3f5f"
            },
            "marker": {
             "line": {
              "color": "#E5ECF6",
              "width": 0.5
             },
             "pattern": {
              "fillmode": "overlay",
              "size": 10,
              "solidity": 0.2
             }
            },
            "type": "bar"
           }
          ],
          "barpolar": [
           {
            "marker": {
             "line": {
              "color": "#E5ECF6",
              "width": 0.5
             },
             "pattern": {
              "fillmode": "overlay",
              "size": 10,
              "solidity": 0.2
             }
            },
            "type": "barpolar"
           }
          ],
          "carpet": [
           {
            "aaxis": {
             "endlinecolor": "#2a3f5f",
             "gridcolor": "white",
             "linecolor": "white",
             "minorgridcolor": "white",
             "startlinecolor": "#2a3f5f"
            },
            "baxis": {
             "endlinecolor": "#2a3f5f",
             "gridcolor": "white",
             "linecolor": "white",
             "minorgridcolor": "white",
             "startlinecolor": "#2a3f5f"
            },
            "type": "carpet"
           }
          ],
          "choropleth": [
           {
            "colorbar": {
             "outlinewidth": 0,
             "ticks": ""
            },
            "type": "choropleth"
           }
          ],
          "contour": [
           {
            "colorbar": {
             "outlinewidth": 0,
             "ticks": ""
            },
            "colorscale": [
             [
              0,
              "#0d0887"
             ],
             [
              0.1111111111111111,
              "#46039f"
             ],
             [
              0.2222222222222222,
              "#7201a8"
             ],
             [
              0.3333333333333333,
              "#9c179e"
             ],
             [
              0.4444444444444444,
              "#bd3786"
             ],
             [
              0.5555555555555556,
              "#d8576b"
             ],
             [
              0.6666666666666666,
              "#ed7953"
             ],
             [
              0.7777777777777778,
              "#fb9f3a"
             ],
             [
              0.8888888888888888,
              "#fdca26"
             ],
             [
              1,
              "#f0f921"
             ]
            ],
            "type": "contour"
           }
          ],
          "contourcarpet": [
           {
            "colorbar": {
             "outlinewidth": 0,
             "ticks": ""
            },
            "type": "contourcarpet"
           }
          ],
          "heatmap": [
           {
            "colorbar": {
             "outlinewidth": 0,
             "ticks": ""
            },
            "colorscale": [
             [
              0,
              "#0d0887"
             ],
             [
              0.1111111111111111,
              "#46039f"
             ],
             [
              0.2222222222222222,
              "#7201a8"
             ],
             [
              0.3333333333333333,
              "#9c179e"
             ],
             [
              0.4444444444444444,
              "#bd3786"
             ],
             [
              0.5555555555555556,
              "#d8576b"
             ],
             [
              0.6666666666666666,
              "#ed7953"
             ],
             [
              0.7777777777777778,
              "#fb9f3a"
             ],
             [
              0.8888888888888888,
              "#fdca26"
             ],
             [
              1,
              "#f0f921"
             ]
            ],
            "type": "heatmap"
           }
          ],
          "heatmapgl": [
           {
            "colorbar": {
             "outlinewidth": 0,
             "ticks": ""
            },
            "colorscale": [
             [
              0,
              "#0d0887"
             ],
             [
              0.1111111111111111,
              "#46039f"
             ],
             [
              0.2222222222222222,
              "#7201a8"
             ],
             [
              0.3333333333333333,
              "#9c179e"
             ],
             [
              0.4444444444444444,
              "#bd3786"
             ],
             [
              0.5555555555555556,
              "#d8576b"
             ],
             [
              0.6666666666666666,
              "#ed7953"
             ],
             [
              0.7777777777777778,
              "#fb9f3a"
             ],
             [
              0.8888888888888888,
              "#fdca26"
             ],
             [
              1,
              "#f0f921"
             ]
            ],
            "type": "heatmapgl"
           }
          ],
          "histogram": [
           {
            "marker": {
             "pattern": {
              "fillmode": "overlay",
              "size": 10,
              "solidity": 0.2
             }
            },
            "type": "histogram"
           }
          ],
          "histogram2d": [
           {
            "colorbar": {
             "outlinewidth": 0,
             "ticks": ""
            },
            "colorscale": [
             [
              0,
              "#0d0887"
             ],
             [
              0.1111111111111111,
              "#46039f"
             ],
             [
              0.2222222222222222,
              "#7201a8"
             ],
             [
              0.3333333333333333,
              "#9c179e"
             ],
             [
              0.4444444444444444,
              "#bd3786"
             ],
             [
              0.5555555555555556,
              "#d8576b"
             ],
             [
              0.6666666666666666,
              "#ed7953"
             ],
             [
              0.7777777777777778,
              "#fb9f3a"
             ],
             [
              0.8888888888888888,
              "#fdca26"
             ],
             [
              1,
              "#f0f921"
             ]
            ],
            "type": "histogram2d"
           }
          ],
          "histogram2dcontour": [
           {
            "colorbar": {
             "outlinewidth": 0,
             "ticks": ""
            },
            "colorscale": [
             [
              0,
              "#0d0887"
             ],
             [
              0.1111111111111111,
              "#46039f"
             ],
             [
              0.2222222222222222,
              "#7201a8"
             ],
             [
              0.3333333333333333,
              "#9c179e"
             ],
             [
              0.4444444444444444,
              "#bd3786"
             ],
             [
              0.5555555555555556,
              "#d8576b"
             ],
             [
              0.6666666666666666,
              "#ed7953"
             ],
             [
              0.7777777777777778,
              "#fb9f3a"
             ],
             [
              0.8888888888888888,
              "#fdca26"
             ],
             [
              1,
              "#f0f921"
             ]
            ],
            "type": "histogram2dcontour"
           }
          ],
          "mesh3d": [
           {
            "colorbar": {
             "outlinewidth": 0,
             "ticks": ""
            },
            "type": "mesh3d"
           }
          ],
          "parcoords": [
           {
            "line": {
             "colorbar": {
              "outlinewidth": 0,
              "ticks": ""
             }
            },
            "type": "parcoords"
           }
          ],
          "pie": [
           {
            "automargin": true,
            "type": "pie"
           }
          ],
          "scatter": [
           {
            "fillpattern": {
             "fillmode": "overlay",
             "size": 10,
             "solidity": 0.2
            },
            "type": "scatter"
           }
          ],
          "scatter3d": [
           {
            "line": {
             "colorbar": {
              "outlinewidth": 0,
              "ticks": ""
             }
            },
            "marker": {
             "colorbar": {
              "outlinewidth": 0,
              "ticks": ""
             }
            },
            "type": "scatter3d"
           }
          ],
          "scattercarpet": [
           {
            "marker": {
             "colorbar": {
              "outlinewidth": 0,
              "ticks": ""
             }
            },
            "type": "scattercarpet"
           }
          ],
          "scattergeo": [
           {
            "marker": {
             "colorbar": {
              "outlinewidth": 0,
              "ticks": ""
             }
            },
            "type": "scattergeo"
           }
          ],
          "scattergl": [
           {
            "marker": {
             "colorbar": {
              "outlinewidth": 0,
              "ticks": ""
             }
            },
            "type": "scattergl"
           }
          ],
          "scattermapbox": [
           {
            "marker": {
             "colorbar": {
              "outlinewidth": 0,
              "ticks": ""
             }
            },
            "type": "scattermapbox"
           }
          ],
          "scatterpolar": [
           {
            "marker": {
             "colorbar": {
              "outlinewidth": 0,
              "ticks": ""
             }
            },
            "type": "scatterpolar"
           }
          ],
          "scatterpolargl": [
           {
            "marker": {
             "colorbar": {
              "outlinewidth": 0,
              "ticks": ""
             }
            },
            "type": "scatterpolargl"
           }
          ],
          "scatterternary": [
           {
            "marker": {
             "colorbar": {
              "outlinewidth": 0,
              "ticks": ""
             }
            },
            "type": "scatterternary"
           }
          ],
          "surface": [
           {
            "colorbar": {
             "outlinewidth": 0,
             "ticks": ""
            },
            "colorscale": [
             [
              0,
              "#0d0887"
             ],
             [
              0.1111111111111111,
              "#46039f"
             ],
             [
              0.2222222222222222,
              "#7201a8"
             ],
             [
              0.3333333333333333,
              "#9c179e"
             ],
             [
              0.4444444444444444,
              "#bd3786"
             ],
             [
              0.5555555555555556,
              "#d8576b"
             ],
             [
              0.6666666666666666,
              "#ed7953"
             ],
             [
              0.7777777777777778,
              "#fb9f3a"
             ],
             [
              0.8888888888888888,
              "#fdca26"
             ],
             [
              1,
              "#f0f921"
             ]
            ],
            "type": "surface"
           }
          ],
          "table": [
           {
            "cells": {
             "fill": {
              "color": "#EBF0F8"
             },
             "line": {
              "color": "white"
             }
            },
            "header": {
             "fill": {
              "color": "#C8D4E3"
             },
             "line": {
              "color": "white"
             }
            },
            "type": "table"
           }
          ]
         },
         "layout": {
          "annotationdefaults": {
           "arrowcolor": "#2a3f5f",
           "arrowhead": 0,
           "arrowwidth": 1
          },
          "autotypenumbers": "strict",
          "coloraxis": {
           "colorbar": {
            "outlinewidth": 0,
            "ticks": ""
           }
          },
          "colorscale": {
           "diverging": [
            [
             0,
             "#8e0152"
            ],
            [
             0.1,
             "#c51b7d"
            ],
            [
             0.2,
             "#de77ae"
            ],
            [
             0.3,
             "#f1b6da"
            ],
            [
             0.4,
             "#fde0ef"
            ],
            [
             0.5,
             "#f7f7f7"
            ],
            [
             0.6,
             "#e6f5d0"
            ],
            [
             0.7,
             "#b8e186"
            ],
            [
             0.8,
             "#7fbc41"
            ],
            [
             0.9,
             "#4d9221"
            ],
            [
             1,
             "#276419"
            ]
           ],
           "sequential": [
            [
             0,
             "#0d0887"
            ],
            [
             0.1111111111111111,
             "#46039f"
            ],
            [
             0.2222222222222222,
             "#7201a8"
            ],
            [
             0.3333333333333333,
             "#9c179e"
            ],
            [
             0.4444444444444444,
             "#bd3786"
            ],
            [
             0.5555555555555556,
             "#d8576b"
            ],
            [
             0.6666666666666666,
             "#ed7953"
            ],
            [
             0.7777777777777778,
             "#fb9f3a"
            ],
            [
             0.8888888888888888,
             "#fdca26"
            ],
            [
             1,
             "#f0f921"
            ]
           ],
           "sequentialminus": [
            [
             0,
             "#0d0887"
            ],
            [
             0.1111111111111111,
             "#46039f"
            ],
            [
             0.2222222222222222,
             "#7201a8"
            ],
            [
             0.3333333333333333,
             "#9c179e"
            ],
            [
             0.4444444444444444,
             "#bd3786"
            ],
            [
             0.5555555555555556,
             "#d8576b"
            ],
            [
             0.6666666666666666,
             "#ed7953"
            ],
            [
             0.7777777777777778,
             "#fb9f3a"
            ],
            [
             0.8888888888888888,
             "#fdca26"
            ],
            [
             1,
             "#f0f921"
            ]
           ]
          },
          "colorway": [
           "#636efa",
           "#EF553B",
           "#00cc96",
           "#ab63fa",
           "#FFA15A",
           "#19d3f3",
           "#FF6692",
           "#B6E880",
           "#FF97FF",
           "#FECB52"
          ],
          "font": {
           "color": "#2a3f5f"
          },
          "geo": {
           "bgcolor": "white",
           "lakecolor": "white",
           "landcolor": "#E5ECF6",
           "showlakes": true,
           "showland": true,
           "subunitcolor": "white"
          },
          "hoverlabel": {
           "align": "left"
          },
          "hovermode": "closest",
          "mapbox": {
           "style": "light"
          },
          "paper_bgcolor": "white",
          "plot_bgcolor": "#E5ECF6",
          "polar": {
           "angularaxis": {
            "gridcolor": "white",
            "linecolor": "white",
            "ticks": ""
           },
           "bgcolor": "#E5ECF6",
           "radialaxis": {
            "gridcolor": "white",
            "linecolor": "white",
            "ticks": ""
           }
          },
          "scene": {
           "xaxis": {
            "backgroundcolor": "#E5ECF6",
            "gridcolor": "white",
            "gridwidth": 2,
            "linecolor": "white",
            "showbackground": true,
            "ticks": "",
            "zerolinecolor": "white"
           },
           "yaxis": {
            "backgroundcolor": "#E5ECF6",
            "gridcolor": "white",
            "gridwidth": 2,
            "linecolor": "white",
            "showbackground": true,
            "ticks": "",
            "zerolinecolor": "white"
           },
           "zaxis": {
            "backgroundcolor": "#E5ECF6",
            "gridcolor": "white",
            "gridwidth": 2,
            "linecolor": "white",
            "showbackground": true,
            "ticks": "",
            "zerolinecolor": "white"
           }
          },
          "shapedefaults": {
           "line": {
            "color": "#2a3f5f"
           }
          },
          "ternary": {
           "aaxis": {
            "gridcolor": "white",
            "linecolor": "white",
            "ticks": ""
           },
           "baxis": {
            "gridcolor": "white",
            "linecolor": "white",
            "ticks": ""
           },
           "bgcolor": "#E5ECF6",
           "caxis": {
            "gridcolor": "white",
            "linecolor": "white",
            "ticks": ""
           }
          },
          "title": {
           "x": 0.05
          },
          "xaxis": {
           "automargin": true,
           "gridcolor": "white",
           "linecolor": "white",
           "ticks": "",
           "title": {
            "standoff": 15
           },
           "zerolinecolor": "white",
           "zerolinewidth": 2
          },
          "yaxis": {
           "automargin": true,
           "gridcolor": "white",
           "linecolor": "white",
           "ticks": "",
           "title": {
            "standoff": 15
           },
           "zerolinecolor": "white",
           "zerolinewidth": 2
          }
         }
        },
        "xaxis": {
         "anchor": "y",
         "domain": [
          0,
          1
         ],
         "title": {
          "text": "Weapon Type"
         }
        },
        "yaxis": {
         "anchor": "x",
         "domain": [
          0,
          1
         ],
         "title": {
          "text": "Damage"
         }
        }
       }
      }
     },
     "metadata": {},
     "output_type": "display_data"
    }
   ],
   "source": [
    "px.bar(ab[['Weapon Type','BDMG_0','BDMG_1','BDMG_2','HDMG_0','HDMG_1','HDMG_2']].set_index('Weapon Type'),\n",
    "labels={'value':'Damage'},barmode='group')"
   ]
  },
  {
   "cell_type": "code",
   "execution_count": 35,
   "metadata": {},
   "outputs": [
    {
     "data": {
      "application/vnd.plotly.v1+json": {
       "config": {
        "plotlyServerURL": "https://plot.ly"
       },
       "data": [
        {
         "alignmentgroup": "True",
         "hovertemplate": "variable=BDMG_0<br>Weapon Name=%{x}<br>Damage=%{y}<extra></extra>",
         "legendgroup": "BDMG_0",
         "marker": {
          "color": "#636efa",
          "pattern": {
           "shape": ""
          }
         },
         "name": "BDMG_0",
         "offsetgroup": "BDMG_0",
         "orientation": "v",
         "showlegend": true,
         "textposition": "auto",
         "type": "bar",
         "x": [
          "Groza",
          "AKM",
          "M762",
          "MK47 Mutant",
          "AUG A3",
          "SCAR-L",
          "M416",
          "M16A4",
          "G36C",
          "OBZ"
         ],
         "xaxis": "x",
         "y": [
          47,
          47,
          46,
          49,
          41,
          41,
          41,
          43,
          41,
          41
         ],
         "yaxis": "y"
        },
        {
         "alignmentgroup": "True",
         "hovertemplate": "variable=BDMG_1<br>Weapon Name=%{x}<br>Damage=%{y}<extra></extra>",
         "legendgroup": "BDMG_1",
         "marker": {
          "color": "#EF553B",
          "pattern": {
           "shape": ""
          }
         },
         "name": "BDMG_1",
         "offsetgroup": "BDMG_1",
         "orientation": "v",
         "showlegend": true,
         "textposition": "auto",
         "type": "bar",
         "x": [
          "Groza",
          "AKM",
          "M762",
          "MK47 Mutant",
          "AUG A3",
          "SCAR-L",
          "M416",
          "M16A4",
          "G36C",
          "OBZ"
         ],
         "xaxis": "x",
         "y": [
          34.3,
          34.3,
          32.9,
          34.3,
          30.1,
          30.1,
          30.1,
          30.1,
          30.1,
          30.1
         ],
         "yaxis": "y"
        },
        {
         "alignmentgroup": "True",
         "hovertemplate": "variable=BDMG_2<br>Weapon Name=%{x}<br>Damage=%{y}<extra></extra>",
         "legendgroup": "BDMG_2",
         "marker": {
          "color": "#00cc96",
          "pattern": {
           "shape": ""
          }
         },
         "name": "BDMG_2",
         "offsetgroup": "BDMG_2",
         "orientation": "v",
         "showlegend": true,
         "textposition": "auto",
         "type": "bar",
         "x": [
          "Groza",
          "AKM",
          "M762",
          "MK47 Mutant",
          "AUG A3",
          "SCAR-L",
          "M416",
          "M16A4",
          "G36C",
          "OBZ"
         ],
         "xaxis": "x",
         "y": [
          29.4,
          29.4,
          28.2,
          29.4,
          25.8,
          25.8,
          25.8,
          25.8,
          25.8,
          25.8
         ],
         "yaxis": "y"
        },
        {
         "alignmentgroup": "True",
         "hovertemplate": "variable=HDMG_0<br>Weapon Name=%{x}<br>Damage=%{y}<extra></extra>",
         "legendgroup": "HDMG_0",
         "marker": {
          "color": "#ab63fa",
          "pattern": {
           "shape": ""
          }
         },
         "name": "HDMG_0",
         "offsetgroup": "HDMG_0",
         "orientation": "v",
         "showlegend": true,
         "textposition": "auto",
         "type": "bar",
         "x": [
          "Groza",
          "AKM",
          "M762",
          "MK47 Mutant",
          "AUG A3",
          "SCAR-L",
          "M416",
          "M16A4",
          "G36C",
          "OBZ"
         ],
         "xaxis": "x",
         "y": [
          115.1,
          115.1,
          110.4,
          115.1,
          101,
          101,
          101,
          101,
          101,
          101
         ],
         "yaxis": "y"
        },
        {
         "alignmentgroup": "True",
         "hovertemplate": "variable=HDMG_1<br>Weapon Name=%{x}<br>Damage=%{y}<extra></extra>",
         "legendgroup": "HDMG_1",
         "marker": {
          "color": "#FFA15A",
          "pattern": {
           "shape": ""
          }
         },
         "name": "HDMG_1",
         "offsetgroup": "HDMG_1",
         "orientation": "v",
         "showlegend": true,
         "textposition": "auto",
         "type": "bar",
         "x": [
          "Groza",
          "AKM",
          "M762",
          "MK47 Mutant",
          "AUG A3",
          "SCAR-L",
          "M416",
          "M16A4",
          "G36C",
          "OBZ"
         ],
         "xaxis": "x",
         "y": [
          80.6,
          80.6,
          77.3,
          80.6,
          70.7,
          70.7,
          70.7,
          70.7,
          70.7,
          70.7
         ],
         "yaxis": "y"
        },
        {
         "alignmentgroup": "True",
         "hovertemplate": "variable=HDMG_2<br>Weapon Name=%{x}<br>Damage=%{y}<extra></extra>",
         "legendgroup": "HDMG_2",
         "marker": {
          "color": "#19d3f3",
          "pattern": {
           "shape": ""
          }
         },
         "name": "HDMG_2",
         "offsetgroup": "HDMG_2",
         "orientation": "v",
         "showlegend": true,
         "textposition": "auto",
         "type": "bar",
         "x": [
          "Groza",
          "AKM",
          "M762",
          "MK47 Mutant",
          "AUG A3",
          "SCAR-L",
          "M416",
          "M16A4",
          "G36C",
          "OBZ"
         ],
         "xaxis": "x",
         "y": [
          69,
          69,
          66.2,
          69,
          60.6,
          60.6,
          60.6,
          60.6,
          60.6,
          60.6
         ],
         "yaxis": "y"
        }
       ],
       "layout": {
        "barmode": "group",
        "legend": {
         "title": {
          "text": "variable"
         },
         "tracegroupgap": 0
        },
        "template": {
         "data": {
          "bar": [
           {
            "error_x": {
             "color": "#2a3f5f"
            },
            "error_y": {
             "color": "#2a3f5f"
            },
            "marker": {
             "line": {
              "color": "#E5ECF6",
              "width": 0.5
             },
             "pattern": {
              "fillmode": "overlay",
              "size": 10,
              "solidity": 0.2
             }
            },
            "type": "bar"
           }
          ],
          "barpolar": [
           {
            "marker": {
             "line": {
              "color": "#E5ECF6",
              "width": 0.5
             },
             "pattern": {
              "fillmode": "overlay",
              "size": 10,
              "solidity": 0.2
             }
            },
            "type": "barpolar"
           }
          ],
          "carpet": [
           {
            "aaxis": {
             "endlinecolor": "#2a3f5f",
             "gridcolor": "white",
             "linecolor": "white",
             "minorgridcolor": "white",
             "startlinecolor": "#2a3f5f"
            },
            "baxis": {
             "endlinecolor": "#2a3f5f",
             "gridcolor": "white",
             "linecolor": "white",
             "minorgridcolor": "white",
             "startlinecolor": "#2a3f5f"
            },
            "type": "carpet"
           }
          ],
          "choropleth": [
           {
            "colorbar": {
             "outlinewidth": 0,
             "ticks": ""
            },
            "type": "choropleth"
           }
          ],
          "contour": [
           {
            "colorbar": {
             "outlinewidth": 0,
             "ticks": ""
            },
            "colorscale": [
             [
              0,
              "#0d0887"
             ],
             [
              0.1111111111111111,
              "#46039f"
             ],
             [
              0.2222222222222222,
              "#7201a8"
             ],
             [
              0.3333333333333333,
              "#9c179e"
             ],
             [
              0.4444444444444444,
              "#bd3786"
             ],
             [
              0.5555555555555556,
              "#d8576b"
             ],
             [
              0.6666666666666666,
              "#ed7953"
             ],
             [
              0.7777777777777778,
              "#fb9f3a"
             ],
             [
              0.8888888888888888,
              "#fdca26"
             ],
             [
              1,
              "#f0f921"
             ]
            ],
            "type": "contour"
           }
          ],
          "contourcarpet": [
           {
            "colorbar": {
             "outlinewidth": 0,
             "ticks": ""
            },
            "type": "contourcarpet"
           }
          ],
          "heatmap": [
           {
            "colorbar": {
             "outlinewidth": 0,
             "ticks": ""
            },
            "colorscale": [
             [
              0,
              "#0d0887"
             ],
             [
              0.1111111111111111,
              "#46039f"
             ],
             [
              0.2222222222222222,
              "#7201a8"
             ],
             [
              0.3333333333333333,
              "#9c179e"
             ],
             [
              0.4444444444444444,
              "#bd3786"
             ],
             [
              0.5555555555555556,
              "#d8576b"
             ],
             [
              0.6666666666666666,
              "#ed7953"
             ],
             [
              0.7777777777777778,
              "#fb9f3a"
             ],
             [
              0.8888888888888888,
              "#fdca26"
             ],
             [
              1,
              "#f0f921"
             ]
            ],
            "type": "heatmap"
           }
          ],
          "heatmapgl": [
           {
            "colorbar": {
             "outlinewidth": 0,
             "ticks": ""
            },
            "colorscale": [
             [
              0,
              "#0d0887"
             ],
             [
              0.1111111111111111,
              "#46039f"
             ],
             [
              0.2222222222222222,
              "#7201a8"
             ],
             [
              0.3333333333333333,
              "#9c179e"
             ],
             [
              0.4444444444444444,
              "#bd3786"
             ],
             [
              0.5555555555555556,
              "#d8576b"
             ],
             [
              0.6666666666666666,
              "#ed7953"
             ],
             [
              0.7777777777777778,
              "#fb9f3a"
             ],
             [
              0.8888888888888888,
              "#fdca26"
             ],
             [
              1,
              "#f0f921"
             ]
            ],
            "type": "heatmapgl"
           }
          ],
          "histogram": [
           {
            "marker": {
             "pattern": {
              "fillmode": "overlay",
              "size": 10,
              "solidity": 0.2
             }
            },
            "type": "histogram"
           }
          ],
          "histogram2d": [
           {
            "colorbar": {
             "outlinewidth": 0,
             "ticks": ""
            },
            "colorscale": [
             [
              0,
              "#0d0887"
             ],
             [
              0.1111111111111111,
              "#46039f"
             ],
             [
              0.2222222222222222,
              "#7201a8"
             ],
             [
              0.3333333333333333,
              "#9c179e"
             ],
             [
              0.4444444444444444,
              "#bd3786"
             ],
             [
              0.5555555555555556,
              "#d8576b"
             ],
             [
              0.6666666666666666,
              "#ed7953"
             ],
             [
              0.7777777777777778,
              "#fb9f3a"
             ],
             [
              0.8888888888888888,
              "#fdca26"
             ],
             [
              1,
              "#f0f921"
             ]
            ],
            "type": "histogram2d"
           }
          ],
          "histogram2dcontour": [
           {
            "colorbar": {
             "outlinewidth": 0,
             "ticks": ""
            },
            "colorscale": [
             [
              0,
              "#0d0887"
             ],
             [
              0.1111111111111111,
              "#46039f"
             ],
             [
              0.2222222222222222,
              "#7201a8"
             ],
             [
              0.3333333333333333,
              "#9c179e"
             ],
             [
              0.4444444444444444,
              "#bd3786"
             ],
             [
              0.5555555555555556,
              "#d8576b"
             ],
             [
              0.6666666666666666,
              "#ed7953"
             ],
             [
              0.7777777777777778,
              "#fb9f3a"
             ],
             [
              0.8888888888888888,
              "#fdca26"
             ],
             [
              1,
              "#f0f921"
             ]
            ],
            "type": "histogram2dcontour"
           }
          ],
          "mesh3d": [
           {
            "colorbar": {
             "outlinewidth": 0,
             "ticks": ""
            },
            "type": "mesh3d"
           }
          ],
          "parcoords": [
           {
            "line": {
             "colorbar": {
              "outlinewidth": 0,
              "ticks": ""
             }
            },
            "type": "parcoords"
           }
          ],
          "pie": [
           {
            "automargin": true,
            "type": "pie"
           }
          ],
          "scatter": [
           {
            "fillpattern": {
             "fillmode": "overlay",
             "size": 10,
             "solidity": 0.2
            },
            "type": "scatter"
           }
          ],
          "scatter3d": [
           {
            "line": {
             "colorbar": {
              "outlinewidth": 0,
              "ticks": ""
             }
            },
            "marker": {
             "colorbar": {
              "outlinewidth": 0,
              "ticks": ""
             }
            },
            "type": "scatter3d"
           }
          ],
          "scattercarpet": [
           {
            "marker": {
             "colorbar": {
              "outlinewidth": 0,
              "ticks": ""
             }
            },
            "type": "scattercarpet"
           }
          ],
          "scattergeo": [
           {
            "marker": {
             "colorbar": {
              "outlinewidth": 0,
              "ticks": ""
             }
            },
            "type": "scattergeo"
           }
          ],
          "scattergl": [
           {
            "marker": {
             "colorbar": {
              "outlinewidth": 0,
              "ticks": ""
             }
            },
            "type": "scattergl"
           }
          ],
          "scattermapbox": [
           {
            "marker": {
             "colorbar": {
              "outlinewidth": 0,
              "ticks": ""
             }
            },
            "type": "scattermapbox"
           }
          ],
          "scatterpolar": [
           {
            "marker": {
             "colorbar": {
              "outlinewidth": 0,
              "ticks": ""
             }
            },
            "type": "scatterpolar"
           }
          ],
          "scatterpolargl": [
           {
            "marker": {
             "colorbar": {
              "outlinewidth": 0,
              "ticks": ""
             }
            },
            "type": "scatterpolargl"
           }
          ],
          "scatterternary": [
           {
            "marker": {
             "colorbar": {
              "outlinewidth": 0,
              "ticks": ""
             }
            },
            "type": "scatterternary"
           }
          ],
          "surface": [
           {
            "colorbar": {
             "outlinewidth": 0,
             "ticks": ""
            },
            "colorscale": [
             [
              0,
              "#0d0887"
             ],
             [
              0.1111111111111111,
              "#46039f"
             ],
             [
              0.2222222222222222,
              "#7201a8"
             ],
             [
              0.3333333333333333,
              "#9c179e"
             ],
             [
              0.4444444444444444,
              "#bd3786"
             ],
             [
              0.5555555555555556,
              "#d8576b"
             ],
             [
              0.6666666666666666,
              "#ed7953"
             ],
             [
              0.7777777777777778,
              "#fb9f3a"
             ],
             [
              0.8888888888888888,
              "#fdca26"
             ],
             [
              1,
              "#f0f921"
             ]
            ],
            "type": "surface"
           }
          ],
          "table": [
           {
            "cells": {
             "fill": {
              "color": "#EBF0F8"
             },
             "line": {
              "color": "white"
             }
            },
            "header": {
             "fill": {
              "color": "#C8D4E3"
             },
             "line": {
              "color": "white"
             }
            },
            "type": "table"
           }
          ]
         },
         "layout": {
          "annotationdefaults": {
           "arrowcolor": "#2a3f5f",
           "arrowhead": 0,
           "arrowwidth": 1
          },
          "autotypenumbers": "strict",
          "coloraxis": {
           "colorbar": {
            "outlinewidth": 0,
            "ticks": ""
           }
          },
          "colorscale": {
           "diverging": [
            [
             0,
             "#8e0152"
            ],
            [
             0.1,
             "#c51b7d"
            ],
            [
             0.2,
             "#de77ae"
            ],
            [
             0.3,
             "#f1b6da"
            ],
            [
             0.4,
             "#fde0ef"
            ],
            [
             0.5,
             "#f7f7f7"
            ],
            [
             0.6,
             "#e6f5d0"
            ],
            [
             0.7,
             "#b8e186"
            ],
            [
             0.8,
             "#7fbc41"
            ],
            [
             0.9,
             "#4d9221"
            ],
            [
             1,
             "#276419"
            ]
           ],
           "sequential": [
            [
             0,
             "#0d0887"
            ],
            [
             0.1111111111111111,
             "#46039f"
            ],
            [
             0.2222222222222222,
             "#7201a8"
            ],
            [
             0.3333333333333333,
             "#9c179e"
            ],
            [
             0.4444444444444444,
             "#bd3786"
            ],
            [
             0.5555555555555556,
             "#d8576b"
            ],
            [
             0.6666666666666666,
             "#ed7953"
            ],
            [
             0.7777777777777778,
             "#fb9f3a"
            ],
            [
             0.8888888888888888,
             "#fdca26"
            ],
            [
             1,
             "#f0f921"
            ]
           ],
           "sequentialminus": [
            [
             0,
             "#0d0887"
            ],
            [
             0.1111111111111111,
             "#46039f"
            ],
            [
             0.2222222222222222,
             "#7201a8"
            ],
            [
             0.3333333333333333,
             "#9c179e"
            ],
            [
             0.4444444444444444,
             "#bd3786"
            ],
            [
             0.5555555555555556,
             "#d8576b"
            ],
            [
             0.6666666666666666,
             "#ed7953"
            ],
            [
             0.7777777777777778,
             "#fb9f3a"
            ],
            [
             0.8888888888888888,
             "#fdca26"
            ],
            [
             1,
             "#f0f921"
            ]
           ]
          },
          "colorway": [
           "#636efa",
           "#EF553B",
           "#00cc96",
           "#ab63fa",
           "#FFA15A",
           "#19d3f3",
           "#FF6692",
           "#B6E880",
           "#FF97FF",
           "#FECB52"
          ],
          "font": {
           "color": "#2a3f5f"
          },
          "geo": {
           "bgcolor": "white",
           "lakecolor": "white",
           "landcolor": "#E5ECF6",
           "showlakes": true,
           "showland": true,
           "subunitcolor": "white"
          },
          "hoverlabel": {
           "align": "left"
          },
          "hovermode": "closest",
          "mapbox": {
           "style": "light"
          },
          "paper_bgcolor": "white",
          "plot_bgcolor": "#E5ECF6",
          "polar": {
           "angularaxis": {
            "gridcolor": "white",
            "linecolor": "white",
            "ticks": ""
           },
           "bgcolor": "#E5ECF6",
           "radialaxis": {
            "gridcolor": "white",
            "linecolor": "white",
            "ticks": ""
           }
          },
          "scene": {
           "xaxis": {
            "backgroundcolor": "#E5ECF6",
            "gridcolor": "white",
            "gridwidth": 2,
            "linecolor": "white",
            "showbackground": true,
            "ticks": "",
            "zerolinecolor": "white"
           },
           "yaxis": {
            "backgroundcolor": "#E5ECF6",
            "gridcolor": "white",
            "gridwidth": 2,
            "linecolor": "white",
            "showbackground": true,
            "ticks": "",
            "zerolinecolor": "white"
           },
           "zaxis": {
            "backgroundcolor": "#E5ECF6",
            "gridcolor": "white",
            "gridwidth": 2,
            "linecolor": "white",
            "showbackground": true,
            "ticks": "",
            "zerolinecolor": "white"
           }
          },
          "shapedefaults": {
           "line": {
            "color": "#2a3f5f"
           }
          },
          "ternary": {
           "aaxis": {
            "gridcolor": "white",
            "linecolor": "white",
            "ticks": ""
           },
           "baxis": {
            "gridcolor": "white",
            "linecolor": "white",
            "ticks": ""
           },
           "bgcolor": "#E5ECF6",
           "caxis": {
            "gridcolor": "white",
            "linecolor": "white",
            "ticks": ""
           }
          },
          "title": {
           "x": 0.05
          },
          "xaxis": {
           "automargin": true,
           "gridcolor": "white",
           "linecolor": "white",
           "ticks": "",
           "title": {
            "standoff": 15
           },
           "zerolinecolor": "white",
           "zerolinewidth": 2
          },
          "yaxis": {
           "automargin": true,
           "gridcolor": "white",
           "linecolor": "white",
           "ticks": "",
           "title": {
            "standoff": 15
           },
           "zerolinecolor": "white",
           "zerolinewidth": 2
          }
         }
        },
        "title": {
         "text": "Summary"
        },
        "xaxis": {
         "anchor": "y",
         "domain": [
          0,
          1
         ],
         "title": {
          "text": "Weapon Name"
         }
        },
        "yaxis": {
         "anchor": "x",
         "domain": [
          0,
          1
         ],
         "title": {
          "text": "Damage"
         }
        }
       }
      }
     },
     "metadata": {},
     "output_type": "display_data"
    }
   ],
   "source": [
    "bc=ab.loc[ab['Weapon Type'].isin(['Assault Rifle'])]\n",
    "bc.drop('Weapon Type',axis=1,inplace=True)\n",
    "px.bar(bc.set_index('Weapon Name')[['BDMG_0','BDMG_1','BDMG_2','HDMG_0','HDMG_1','HDMG_2']]\n",
    ",labels={'value':'Damage'},barmode='group',title='Summary')"
   ]
  },
  {
   "cell_type": "code",
   "execution_count": 40,
   "metadata": {},
   "outputs": [
    {
     "data": {
      "text/html": [
       "<div>\n",
       "<style scoped>\n",
       "    .dataframe tbody tr th:only-of-type {\n",
       "        vertical-align: middle;\n",
       "    }\n",
       "\n",
       "    .dataframe tbody tr th {\n",
       "        vertical-align: top;\n",
       "    }\n",
       "\n",
       "    .dataframe thead th {\n",
       "        text-align: right;\n",
       "    }\n",
       "</style>\n",
       "<table border=\"1\" class=\"dataframe\">\n",
       "  <thead>\n",
       "    <tr style=\"text-align: right;\">\n",
       "      <th></th>\n",
       "      <th>Weapon Type</th>\n",
       "      <th>Damage</th>\n",
       "    </tr>\n",
       "  </thead>\n",
       "  <tbody>\n",
       "    <tr>\n",
       "      <th>0</th>\n",
       "      <td>Assault Rifle</td>\n",
       "      <td>45.200000</td>\n",
       "    </tr>\n",
       "    <tr>\n",
       "      <th>1</th>\n",
       "      <td>Designed Marksman Rifle</td>\n",
       "      <td>50.833333</td>\n",
       "    </tr>\n",
       "    <tr>\n",
       "      <th>2</th>\n",
       "      <td>Light Machine Gun</td>\n",
       "      <td>48.000000</td>\n",
       "    </tr>\n",
       "    <tr>\n",
       "      <th>3</th>\n",
       "      <td>Pistol</td>\n",
       "      <td>38.500000</td>\n",
       "    </tr>\n",
       "    <tr>\n",
       "      <th>4</th>\n",
       "      <td>Shotgun</td>\n",
       "      <td>210.000000</td>\n",
       "    </tr>\n",
       "    <tr>\n",
       "      <th>5</th>\n",
       "      <td>Sniper Rifle</td>\n",
       "      <td>81.250000</td>\n",
       "    </tr>\n",
       "    <tr>\n",
       "      <th>6</th>\n",
       "      <td>Submachine Gun</td>\n",
       "      <td>34.000000</td>\n",
       "    </tr>\n",
       "  </tbody>\n",
       "</table>\n",
       "</div>"
      ],
      "text/plain": [
       "               Weapon Type      Damage\n",
       "0            Assault Rifle   45.200000\n",
       "1  Designed Marksman Rifle   50.833333\n",
       "2        Light Machine Gun   48.000000\n",
       "3                   Pistol   38.500000\n",
       "4                  Shotgun  210.000000\n",
       "5             Sniper Rifle   81.250000\n",
       "6           Submachine Gun   34.000000"
      ]
     },
     "execution_count": 40,
     "metadata": {},
     "output_type": "execute_result"
    }
   ],
   "source": [
    "ac=ab.groupby('Weapon Type')['Damage'].mean().reset_index()\n",
    "ac"
   ]
  },
  {
   "cell_type": "code",
   "execution_count": 41,
   "metadata": {},
   "outputs": [
    {
     "data": {
      "text/plain": [
       "<AxesSubplot:xlabel='Weapon Type', ylabel='Damage'>"
      ]
     },
     "execution_count": 41,
     "metadata": {},
     "output_type": "execute_result"
    },
    {
     "data": {
      "image/png": "[encoded data removed]",
      "text/plain": [
       "<Figure size 1500x500 with 1 Axes>"
      ]
     },
     "metadata": {},
     "output_type": "display_data"
    }
   ],
   "source": [
    "plt.figure(figsize=(15,5))\n",
    "sns.barplot(x='Weapon Type',y='Damage',data=ac,palette='Accent')\n"
   ]
  },
  {
   "cell_type": "code",
   "execution_count": 44,
   "metadata": {},
   "outputs": [
    {
     "data": {
      "text/html": [
       "<div>\n",
       "<style scoped>\n",
       "    .dataframe tbody tr th:only-of-type {\n",
       "        vertical-align: middle;\n",
       "    }\n",
       "\n",
       "    .dataframe tbody tr th {\n",
       "        vertical-align: top;\n",
       "    }\n",
       "\n",
       "    .dataframe thead th {\n",
       "        text-align: right;\n",
       "    }\n",
       "</style>\n",
       "<table border=\"1\" class=\"dataframe\">\n",
       "  <thead>\n",
       "    <tr style=\"text-align: right;\">\n",
       "      <th></th>\n",
       "      <th>Weapon Type</th>\n",
       "      <th>Range</th>\n",
       "    </tr>\n",
       "  </thead>\n",
       "  <tbody>\n",
       "    <tr>\n",
       "      <th>0</th>\n",
       "      <td>Assault Rifle</td>\n",
       "      <td>530.000000</td>\n",
       "    </tr>\n",
       "    <tr>\n",
       "      <th>1</th>\n",
       "      <td>Designed Marksman Rifle</td>\n",
       "      <td>733.333333</td>\n",
       "    </tr>\n",
       "    <tr>\n",
       "      <th>2</th>\n",
       "      <td>Light Machine Gun</td>\n",
       "      <td>500.000000</td>\n",
       "    </tr>\n",
       "    <tr>\n",
       "      <th>3</th>\n",
       "      <td>Pistol</td>\n",
       "      <td>25.000000</td>\n",
       "    </tr>\n",
       "    <tr>\n",
       "      <th>4</th>\n",
       "      <td>Shotgun</td>\n",
       "      <td>25.000000</td>\n",
       "    </tr>\n",
       "    <tr>\n",
       "      <th>5</th>\n",
       "      <td>Sniper Rifle</td>\n",
       "      <td>775.000000</td>\n",
       "    </tr>\n",
       "    <tr>\n",
       "      <th>6</th>\n",
       "      <td>Submachine Gun</td>\n",
       "      <td>208.333333</td>\n",
       "    </tr>\n",
       "  </tbody>\n",
       "</table>\n",
       "</div>"
      ],
      "text/plain": [
       "               Weapon Type       Range\n",
       "0            Assault Rifle  530.000000\n",
       "1  Designed Marksman Rifle  733.333333\n",
       "2        Light Machine Gun  500.000000\n",
       "3                   Pistol   25.000000\n",
       "4                  Shotgun   25.000000\n",
       "5             Sniper Rifle  775.000000\n",
       "6           Submachine Gun  208.333333"
      ]
     },
     "execution_count": 44,
     "metadata": {},
     "output_type": "execute_result"
    }
   ],
   "source": [
    "ad=ab.groupby('Weapon Type')['Range'].mean().reset_index()\n",
    "ad"
   ]
  },
  {
   "cell_type": "code",
   "execution_count": 46,
   "metadata": {},
   "outputs": [
    {
     "data": {
      "text/plain": [
       "<AxesSubplot:xlabel='Weapon Type', ylabel='Range'>"
      ]
     },
     "execution_count": 46,
     "metadata": {},
     "output_type": "execute_result"
    },
    {
     "data": {
      "image/png": "[encoded data removed]",
      "text/plain": [
       "<Figure size 1500x500 with 1 Axes>"
      ]
     },
     "metadata": {},
     "output_type": "display_data"
    }
   ],
   "source": [
    "plt.figure(figsize=(15,5))\n",
    "sns.barplot(x='Weapon Type',y='Range',data=ad,palette='Spectral')\n"
   ]
  },
  {
   "cell_type": "code",
   "execution_count": 47,
   "metadata": {},
   "outputs": [
    {
     "data": {
      "text/html": [
       "<div>\n",
       "<style scoped>\n",
       "    .dataframe tbody tr th:only-of-type {\n",
       "        vertical-align: middle;\n",
       "    }\n",
       "\n",
       "    .dataframe tbody tr th {\n",
       "        vertical-align: top;\n",
       "    }\n",
       "\n",
       "    .dataframe thead th {\n",
       "        text-align: right;\n",
       "    }\n",
       "</style>\n",
       "<table border=\"1\" class=\"dataframe\">\n",
       "  <thead>\n",
       "    <tr style=\"text-align: right;\">\n",
       "      <th></th>\n",
       "      <th>Weapon Type</th>\n",
       "      <th>Bullet Speed</th>\n",
       "    </tr>\n",
       "  </thead>\n",
       "  <tbody>\n",
       "    <tr>\n",
       "      <th>0</th>\n",
       "      <td>Assault Rifle</td>\n",
       "      <td>816.500000</td>\n",
       "    </tr>\n",
       "    <tr>\n",
       "      <th>1</th>\n",
       "      <td>Designed Marksman Rifle</td>\n",
       "      <td>763.000000</td>\n",
       "    </tr>\n",
       "    <tr>\n",
       "      <th>2</th>\n",
       "      <td>Light Machine Gun</td>\n",
       "      <td>815.000000</td>\n",
       "    </tr>\n",
       "    <tr>\n",
       "      <th>3</th>\n",
       "      <td>Pistol</td>\n",
       "      <td>333.750000</td>\n",
       "    </tr>\n",
       "    <tr>\n",
       "      <th>4</th>\n",
       "      <td>Shotgun</td>\n",
       "      <td>360.000000</td>\n",
       "    </tr>\n",
       "    <tr>\n",
       "      <th>5</th>\n",
       "      <td>Sniper Rifle</td>\n",
       "      <td>792.500000</td>\n",
       "    </tr>\n",
       "    <tr>\n",
       "      <th>6</th>\n",
       "      <td>Submachine Gun</td>\n",
       "      <td>301.666667</td>\n",
       "    </tr>\n",
       "  </tbody>\n",
       "</table>\n",
       "</div>"
      ],
      "text/plain": [
       "               Weapon Type  Bullet Speed\n",
       "0            Assault Rifle    816.500000\n",
       "1  Designed Marksman Rifle    763.000000\n",
       "2        Light Machine Gun    815.000000\n",
       "3                   Pistol    333.750000\n",
       "4                  Shotgun    360.000000\n",
       "5             Sniper Rifle    792.500000\n",
       "6           Submachine Gun    301.666667"
      ]
     },
     "execution_count": 47,
     "metadata": {},
     "output_type": "execute_result"
    }
   ],
   "source": [
    "ae=ab.groupby('Weapon Type')['Bullet Speed'].mean().reset_index()\n",
    "ae"
   ]
  },
  {
   "cell_type": "code",
   "execution_count": 48,
   "metadata": {},
   "outputs": [
    {
     "data": {
      "text/plain": [
       "<AxesSubplot:xlabel='Weapon Type', ylabel='Bullet Speed'>"
      ]
     },
     "execution_count": 48,
     "metadata": {},
     "output_type": "execute_result"
    },
    {
     "data": {
      "image/png": "[encoded data removed]",
      "text/plain": [
       "<Figure size 1500x500 with 1 Axes>"
      ]
     },
     "metadata": {},
     "output_type": "display_data"
    }
   ],
   "source": [
    "plt.figure(figsize=(15,5))\n",
    "sns.barplot(x='Weapon Type',y='Bullet Speed',data=ae,palette='Accent')\n"
   ]
  },
  {
   "cell_type": "code",
   "execution_count": 49,
   "metadata": {},
   "outputs": [
    {
     "data": {
      "text/html": [
       "<div>\n",
       "<style scoped>\n",
       "    .dataframe tbody tr th:only-of-type {\n",
       "        vertical-align: middle;\n",
       "    }\n",
       "\n",
       "    .dataframe tbody tr th {\n",
       "        vertical-align: top;\n",
       "    }\n",
       "\n",
       "    .dataframe thead th {\n",
       "        text-align: right;\n",
       "    }\n",
       "</style>\n",
       "<table border=\"1\" class=\"dataframe\">\n",
       "  <thead>\n",
       "    <tr style=\"text-align: right;\">\n",
       "      <th></th>\n",
       "      <th>Weapon Type</th>\n",
       "      <th>Rate of Fire</th>\n",
       "    </tr>\n",
       "  </thead>\n",
       "  <tbody>\n",
       "    <tr>\n",
       "      <th>0</th>\n",
       "      <td>Assault Rifle</td>\n",
       "      <td>0.064600</td>\n",
       "    </tr>\n",
       "    <tr>\n",
       "      <th>1</th>\n",
       "      <td>Designed Marksman Rifle</td>\n",
       "      <td>0.023333</td>\n",
       "    </tr>\n",
       "    <tr>\n",
       "      <th>2</th>\n",
       "      <td>Light Machine Gun</td>\n",
       "      <td>0.092000</td>\n",
       "    </tr>\n",
       "    <tr>\n",
       "      <th>3</th>\n",
       "      <td>Pistol</td>\n",
       "      <td>0.177500</td>\n",
       "    </tr>\n",
       "    <tr>\n",
       "      <th>4</th>\n",
       "      <td>Shotgun</td>\n",
       "      <td>0.383333</td>\n",
       "    </tr>\n",
       "    <tr>\n",
       "      <th>5</th>\n",
       "      <td>Sniper Rifle</td>\n",
       "      <td>1.537500</td>\n",
       "    </tr>\n",
       "    <tr>\n",
       "      <th>6</th>\n",
       "      <td>Submachine Gun</td>\n",
       "      <td>0.070250</td>\n",
       "    </tr>\n",
       "  </tbody>\n",
       "</table>\n",
       "</div>"
      ],
      "text/plain": [
       "               Weapon Type  Rate of Fire\n",
       "0            Assault Rifle      0.064600\n",
       "1  Designed Marksman Rifle      0.023333\n",
       "2        Light Machine Gun      0.092000\n",
       "3                   Pistol      0.177500\n",
       "4                  Shotgun      0.383333\n",
       "5             Sniper Rifle      1.537500\n",
       "6           Submachine Gun      0.070250"
      ]
     },
     "execution_count": 49,
     "metadata": {},
     "output_type": "execute_result"
    }
   ],
   "source": [
    "af=ab.groupby('Weapon Type')['Rate of Fire'].mean().reset_index()\n",
    "af"
   ]
  },
  {
   "cell_type": "code",
   "execution_count": 52,
   "metadata": {},
   "outputs": [
    {
     "data": {
      "text/plain": [
       "<AxesSubplot:xlabel='Weapon Type', ylabel='Rate of Fire'>"
      ]
     },
     "execution_count": 52,
     "metadata": {},
     "output_type": "execute_result"
    },
    {
     "data": {
      "image/png": "[encoded data removed]",
      "text/plain": [
       "<Figure size 1500x500 with 1 Axes>"
      ]
     },
     "metadata": {},
     "output_type": "display_data"
    }
   ],
   "source": [
    "plt.figure(figsize=(15,5))\n",
    "sns.barplot(x='Weapon Type',y='Rate of Fire',data=af,palette='Dark2')\n"
   ]
  },
  {
   "cell_type": "code",
   "execution_count": 58,
   "metadata": {},
   "outputs": [
    {
     "data": {
      "text/html": [
       "<div>\n",
       "<style scoped>\n",
       "    .dataframe tbody tr th:only-of-type {\n",
       "        vertical-align: middle;\n",
       "    }\n",
       "\n",
       "    .dataframe tbody tr th {\n",
       "        vertical-align: top;\n",
       "    }\n",
       "\n",
       "    .dataframe thead th {\n",
       "        text-align: right;\n",
       "    }\n",
       "</style>\n",
       "<table border=\"1\" class=\"dataframe\">\n",
       "  <thead>\n",
       "    <tr style=\"text-align: right;\">\n",
       "      <th></th>\n",
       "      <th>Weapon Name</th>\n",
       "      <th>Damage</th>\n",
       "    </tr>\n",
       "  </thead>\n",
       "  <tbody>\n",
       "    <tr>\n",
       "      <th>0</th>\n",
       "      <td>Groza</td>\n",
       "      <td>49</td>\n",
       "    </tr>\n",
       "    <tr>\n",
       "      <th>1</th>\n",
       "      <td>AKM</td>\n",
       "      <td>49</td>\n",
       "    </tr>\n",
       "    <tr>\n",
       "      <th>3</th>\n",
       "      <td>MK47 Mutant</td>\n",
       "      <td>49</td>\n",
       "    </tr>\n",
       "    <tr>\n",
       "      <th>2</th>\n",
       "      <td>M762</td>\n",
       "      <td>47</td>\n",
       "    </tr>\n",
       "    <tr>\n",
       "      <th>4</th>\n",
       "      <td>AUG A3</td>\n",
       "      <td>43</td>\n",
       "    </tr>\n",
       "    <tr>\n",
       "      <th>5</th>\n",
       "      <td>SCAR-L</td>\n",
       "      <td>43</td>\n",
       "    </tr>\n",
       "    <tr>\n",
       "      <th>6</th>\n",
       "      <td>M416</td>\n",
       "      <td>43</td>\n",
       "    </tr>\n",
       "    <tr>\n",
       "      <th>7</th>\n",
       "      <td>M16A4</td>\n",
       "      <td>43</td>\n",
       "    </tr>\n",
       "    <tr>\n",
       "      <th>8</th>\n",
       "      <td>G36C</td>\n",
       "      <td>43</td>\n",
       "    </tr>\n",
       "    <tr>\n",
       "      <th>9</th>\n",
       "      <td>OBZ</td>\n",
       "      <td>43</td>\n",
       "    </tr>\n",
       "  </tbody>\n",
       "</table>\n",
       "</div>"
      ],
      "text/plain": [
       "   Weapon Name  Damage\n",
       "0        Groza      49\n",
       "1          AKM      49\n",
       "3  MK47 Mutant      49\n",
       "2         M762      47\n",
       "4       AUG A3      43\n",
       "5       SCAR-L      43\n",
       "6         M416      43\n",
       "7        M16A4      43\n",
       "8         G36C      43\n",
       "9          OBZ      43"
      ]
     },
     "execution_count": 58,
     "metadata": {},
     "output_type": "execute_result"
    }
   ],
   "source": [
    "a1 = ab[ab['Weapon Type'] == 'Assault Rifle'][['Weapon Name','Damage']].sort_values('Damage',ascending=False)\n",
    "a1"
   ]
  },
  {
   "cell_type": "code",
   "execution_count": 59,
   "metadata": {},
   "outputs": [
    {
     "data": {
      "text/plain": [
       "<AxesSubplot:xlabel='Weapon Name', ylabel='Damage'>"
      ]
     },
     "execution_count": 59,
     "metadata": {},
     "output_type": "execute_result"
    },
    {
     "data": {
      "image/png": "[encoded data removed]",
      "text/plain": [
       "<Figure size 1500x500 with 1 Axes>"
      ]
     },
     "metadata": {},
     "output_type": "display_data"
    }
   ],
   "source": [
    "plt.figure(figsize=(15,5))\n",
    "sns.barplot(x='Weapon Name',y='Damage',data=a1,palette='Dark2')\n"
   ]
  },
  {
   "cell_type": "code",
   "execution_count": 61,
   "metadata": {},
   "outputs": [
    {
     "data": {
      "text/html": [
       "<div>\n",
       "<style scoped>\n",
       "    .dataframe tbody tr th:only-of-type {\n",
       "        vertical-align: middle;\n",
       "    }\n",
       "\n",
       "    .dataframe tbody tr th {\n",
       "        vertical-align: top;\n",
       "    }\n",
       "\n",
       "    .dataframe thead th {\n",
       "        text-align: right;\n",
       "    }\n",
       "</style>\n",
       "<table border=\"1\" class=\"dataframe\">\n",
       "  <thead>\n",
       "    <tr style=\"text-align: right;\">\n",
       "      <th></th>\n",
       "      <th>Weapon Name</th>\n",
       "      <th>Damage</th>\n",
       "    </tr>\n",
       "  </thead>\n",
       "  <tbody>\n",
       "    <tr>\n",
       "      <th>27</th>\n",
       "      <td>AWM</td>\n",
       "      <td>105</td>\n",
       "    </tr>\n",
       "    <tr>\n",
       "      <th>28</th>\n",
       "      <td>M24</td>\n",
       "      <td>79</td>\n",
       "    </tr>\n",
       "    <tr>\n",
       "      <th>29</th>\n",
       "      <td>Kar98</td>\n",
       "      <td>75</td>\n",
       "    </tr>\n",
       "    <tr>\n",
       "      <th>30</th>\n",
       "      <td>Win94</td>\n",
       "      <td>66</td>\n",
       "    </tr>\n",
       "  </tbody>\n",
       "</table>\n",
       "</div>"
      ],
      "text/plain": [
       "   Weapon Name  Damage\n",
       "27         AWM     105\n",
       "28         M24      79\n",
       "29       Kar98      75\n",
       "30       Win94      66"
      ]
     },
     "execution_count": 61,
     "metadata": {},
     "output_type": "execute_result"
    }
   ],
   "source": [
    "a2= ab[ab['Weapon Type'] == 'Sniper Rifle'][['Weapon Name','Damage']].sort_values('Damage',ascending=False)\n",
    "a2"
   ]
  },
  {
   "cell_type": "code",
   "execution_count": 62,
   "metadata": {},
   "outputs": [
    {
     "data": {
      "text/plain": [
       "<AxesSubplot:xlabel='Weapon Name', ylabel='Damage'>"
      ]
     },
     "execution_count": 62,
     "metadata": {},
     "output_type": "execute_result"
    },
    {
     "data": {
      "image/png": "[encoded data removed]",
      "text/plain": [
       "<Figure size 1500x500 with 1 Axes>"
      ]
     },
     "metadata": {},
     "output_type": "display_data"
    }
   ],
   "source": [
    "plt.figure(figsize=(15,5))\n",
    "sns.barplot(x='Weapon Name',y='Damage',data=a2,palette='Dark2')\n"
   ]
  },
  {
   "cell_type": "code",
   "execution_count": 65,
   "metadata": {},
   "outputs": [
    {
     "data": {
      "text/html": [
       "<div>\n",
       "<style scoped>\n",
       "    .dataframe tbody tr th:only-of-type {\n",
       "        vertical-align: middle;\n",
       "    }\n",
       "\n",
       "    .dataframe tbody tr th {\n",
       "        vertical-align: top;\n",
       "    }\n",
       "\n",
       "    .dataframe thead th {\n",
       "        text-align: right;\n",
       "    }\n",
       "</style>\n",
       "<table border=\"1\" class=\"dataframe\">\n",
       "  <thead>\n",
       "    <tr style=\"text-align: right;\">\n",
       "      <th></th>\n",
       "      <th>Weapon Name</th>\n",
       "      <th>Range</th>\n",
       "    </tr>\n",
       "  </thead>\n",
       "  <tbody>\n",
       "    <tr>\n",
       "      <th>4</th>\n",
       "      <td>AUG A3</td>\n",
       "      <td>600.0</td>\n",
       "    </tr>\n",
       "    <tr>\n",
       "      <th>5</th>\n",
       "      <td>SCAR-L</td>\n",
       "      <td>600.0</td>\n",
       "    </tr>\n",
       "    <tr>\n",
       "      <th>6</th>\n",
       "      <td>M416</td>\n",
       "      <td>600.0</td>\n",
       "    </tr>\n",
       "    <tr>\n",
       "      <th>7</th>\n",
       "      <td>M16A4</td>\n",
       "      <td>600.0</td>\n",
       "    </tr>\n",
       "    <tr>\n",
       "      <th>8</th>\n",
       "      <td>G36C</td>\n",
       "      <td>600.0</td>\n",
       "    </tr>\n",
       "    <tr>\n",
       "      <th>9</th>\n",
       "      <td>OBZ</td>\n",
       "      <td>600.0</td>\n",
       "    </tr>\n",
       "    <tr>\n",
       "      <th>3</th>\n",
       "      <td>MK47 Mutant</td>\n",
       "      <td>500.0</td>\n",
       "    </tr>\n",
       "    <tr>\n",
       "      <th>0</th>\n",
       "      <td>Groza</td>\n",
       "      <td>400.0</td>\n",
       "    </tr>\n",
       "    <tr>\n",
       "      <th>1</th>\n",
       "      <td>AKM</td>\n",
       "      <td>400.0</td>\n",
       "    </tr>\n",
       "    <tr>\n",
       "      <th>2</th>\n",
       "      <td>M762</td>\n",
       "      <td>400.0</td>\n",
       "    </tr>\n",
       "  </tbody>\n",
       "</table>\n",
       "</div>"
      ],
      "text/plain": [
       "   Weapon Name  Range\n",
       "4       AUG A3  600.0\n",
       "5       SCAR-L  600.0\n",
       "6         M416  600.0\n",
       "7        M16A4  600.0\n",
       "8         G36C  600.0\n",
       "9          OBZ  600.0\n",
       "3  MK47 Mutant  500.0\n",
       "0        Groza  400.0\n",
       "1          AKM  400.0\n",
       "2         M762  400.0"
      ]
     },
     "execution_count": 65,
     "metadata": {},
     "output_type": "execute_result"
    }
   ],
   "source": [
    "a3= ab[ab['Weapon Type'] == 'Assault Rifle'][['Weapon Name','Range']].sort_values('Range',ascending=False)\n",
    "a3"
   ]
  },
  {
   "cell_type": "code",
   "execution_count": 66,
   "metadata": {},
   "outputs": [
    {
     "data": {
      "text/plain": [
       "<AxesSubplot:xlabel='Weapon Name', ylabel='Range'>"
      ]
     },
     "execution_count": 66,
     "metadata": {},
     "output_type": "execute_result"
    },
    {
     "data": {
      "image/png": "[encoded data removed]",
      "text/plain": [
       "<Figure size 1500x500 with 1 Axes>"
      ]
     },
     "metadata": {},
     "output_type": "display_data"
    }
   ],
   "source": [
    "plt.figure(figsize=(15,5))\n",
    "sns.barplot(x='Weapon Name',y='Range',data=a3,palette='Dark2')\n"
   ]
  },
  {
   "cell_type": "code",
   "execution_count": 67,
   "metadata": {},
   "outputs": [
    {
     "data": {
      "text/html": [
       "<div>\n",
       "<style scoped>\n",
       "    .dataframe tbody tr th:only-of-type {\n",
       "        vertical-align: middle;\n",
       "    }\n",
       "\n",
       "    .dataframe tbody tr th {\n",
       "        vertical-align: top;\n",
       "    }\n",
       "\n",
       "    .dataframe thead th {\n",
       "        text-align: right;\n",
       "    }\n",
       "</style>\n",
       "<table border=\"1\" class=\"dataframe\">\n",
       "  <thead>\n",
       "    <tr style=\"text-align: right;\">\n",
       "      <th></th>\n",
       "      <th>Weapon Name</th>\n",
       "      <th>Range</th>\n",
       "    </tr>\n",
       "  </thead>\n",
       "  <tbody>\n",
       "    <tr>\n",
       "      <th>27</th>\n",
       "      <td>AWM</td>\n",
       "      <td>900.0</td>\n",
       "    </tr>\n",
       "    <tr>\n",
       "      <th>28</th>\n",
       "      <td>M24</td>\n",
       "      <td>800.0</td>\n",
       "    </tr>\n",
       "    <tr>\n",
       "      <th>29</th>\n",
       "      <td>Kar98</td>\n",
       "      <td>800.0</td>\n",
       "    </tr>\n",
       "    <tr>\n",
       "      <th>30</th>\n",
       "      <td>Win94</td>\n",
       "      <td>600.0</td>\n",
       "    </tr>\n",
       "  </tbody>\n",
       "</table>\n",
       "</div>"
      ],
      "text/plain": [
       "   Weapon Name  Range\n",
       "27         AWM  900.0\n",
       "28         M24  800.0\n",
       "29       Kar98  800.0\n",
       "30       Win94  600.0"
      ]
     },
     "execution_count": 67,
     "metadata": {},
     "output_type": "execute_result"
    }
   ],
   "source": [
    "a4= ab[ab['Weapon Type'] == 'Sniper Rifle'][['Weapon Name','Range']].sort_values('Range',ascending=False)\n",
    "a4"
   ]
  },
  {
   "cell_type": "code",
   "execution_count": 68,
   "metadata": {},
   "outputs": [
    {
     "data": {
      "text/plain": [
       "<AxesSubplot:xlabel='Weapon Name', ylabel='Range'>"
      ]
     },
     "execution_count": 68,
     "metadata": {},
     "output_type": "execute_result"
    },
    {
     "data": {
      "image/png": "[encoded data removed]",
      "text/plain": [
       "<Figure size 1500x500 with 1 Axes>"
      ]
     },
     "metadata": {},
     "output_type": "display_data"
    }
   ],
   "source": [
    "plt.figure(figsize=(15,5))\n",
    "sns.barplot(x='Weapon Name',y='Range',data=a4,palette='Dark2')\n"
   ]
  },
  {
   "cell_type": "code",
   "execution_count": 72,
   "metadata": {},
   "outputs": [
    {
     "data": {
      "text/html": [
       "<div>\n",
       "<style scoped>\n",
       "    .dataframe tbody tr th:only-of-type {\n",
       "        vertical-align: middle;\n",
       "    }\n",
       "\n",
       "    .dataframe tbody tr th {\n",
       "        vertical-align: top;\n",
       "    }\n",
       "\n",
       "    .dataframe thead th {\n",
       "        text-align: right;\n",
       "    }\n",
       "</style>\n",
       "<table border=\"1\" class=\"dataframe\">\n",
       "  <thead>\n",
       "    <tr style=\"text-align: right;\">\n",
       "      <th></th>\n",
       "      <th>Weapon Name</th>\n",
       "      <th>Bullet Speed</th>\n",
       "    </tr>\n",
       "  </thead>\n",
       "  <tbody>\n",
       "    <tr>\n",
       "      <th>7</th>\n",
       "      <td>M16A4</td>\n",
       "      <td>900.0</td>\n",
       "    </tr>\n",
       "    <tr>\n",
       "      <th>6</th>\n",
       "      <td>M416</td>\n",
       "      <td>890.0</td>\n",
       "    </tr>\n",
       "    <tr>\n",
       "      <th>4</th>\n",
       "      <td>AUG A3</td>\n",
       "      <td>880.0</td>\n",
       "    </tr>\n",
       "    <tr>\n",
       "      <th>5</th>\n",
       "      <td>SCAR-L</td>\n",
       "      <td>880.0</td>\n",
       "    </tr>\n",
       "    <tr>\n",
       "      <th>8</th>\n",
       "      <td>G36C</td>\n",
       "      <td>880.0</td>\n",
       "    </tr>\n",
       "    <tr>\n",
       "      <th>9</th>\n",
       "      <td>OBZ</td>\n",
       "      <td>880.0</td>\n",
       "    </tr>\n",
       "    <tr>\n",
       "      <th>0</th>\n",
       "      <td>Groza</td>\n",
       "      <td>715.0</td>\n",
       "    </tr>\n",
       "    <tr>\n",
       "      <th>2</th>\n",
       "      <td>M762</td>\n",
       "      <td>715.0</td>\n",
       "    </tr>\n",
       "    <tr>\n",
       "      <th>3</th>\n",
       "      <td>MK47 Mutant</td>\n",
       "      <td>715.0</td>\n",
       "    </tr>\n",
       "    <tr>\n",
       "      <th>1</th>\n",
       "      <td>AKM</td>\n",
       "      <td>710.0</td>\n",
       "    </tr>\n",
       "  </tbody>\n",
       "</table>\n",
       "</div>"
      ],
      "text/plain": [
       "   Weapon Name  Bullet Speed\n",
       "7        M16A4         900.0\n",
       "6         M416         890.0\n",
       "4       AUG A3         880.0\n",
       "5       SCAR-L         880.0\n",
       "8         G36C         880.0\n",
       "9          OBZ         880.0\n",
       "0        Groza         715.0\n",
       "2         M762         715.0\n",
       "3  MK47 Mutant         715.0\n",
       "1          AKM         710.0"
      ]
     },
     "execution_count": 72,
     "metadata": {},
     "output_type": "execute_result"
    }
   ],
   "source": [
    "a5= ab[ab['Weapon Type'] == 'Assault Rifle'][['Weapon Name','Bullet Speed']].sort_values('Bullet Speed',ascending=False)\n",
    "a5"
   ]
  },
  {
   "cell_type": "code",
   "execution_count": 73,
   "metadata": {},
   "outputs": [
    {
     "data": {
      "text/plain": [
       "<AxesSubplot:xlabel='Weapon Name', ylabel='Bullet Speed'>"
      ]
     },
     "execution_count": 73,
     "metadata": {},
     "output_type": "execute_result"
    },
    {
     "data": {
      "image/png": "[encoded data removed]",
      "text/plain": [
       "<Figure size 1500x500 with 1 Axes>"
      ]
     },
     "metadata": {},
     "output_type": "display_data"
    }
   ],
   "source": [
    "plt.figure(figsize=(15,5))\n",
    "sns.barplot(x='Weapon Name',y='Bullet Speed',data=a5,palette='Dark2')\n"
   ]
  },
  {
   "cell_type": "code",
   "execution_count": 74,
   "metadata": {},
   "outputs": [
    {
     "data": {
      "text/html": [
       "<div>\n",
       "<style scoped>\n",
       "    .dataframe tbody tr th:only-of-type {\n",
       "        vertical-align: middle;\n",
       "    }\n",
       "\n",
       "    .dataframe tbody tr th {\n",
       "        vertical-align: top;\n",
       "    }\n",
       "\n",
       "    .dataframe thead th {\n",
       "        text-align: right;\n",
       "    }\n",
       "</style>\n",
       "<table border=\"1\" class=\"dataframe\">\n",
       "  <thead>\n",
       "    <tr style=\"text-align: right;\">\n",
       "      <th></th>\n",
       "      <th>Weapon Name</th>\n",
       "      <th>Bullet Speed</th>\n",
       "    </tr>\n",
       "  </thead>\n",
       "  <tbody>\n",
       "    <tr>\n",
       "      <th>27</th>\n",
       "      <td>AWM</td>\n",
       "      <td>910.0</td>\n",
       "    </tr>\n",
       "    <tr>\n",
       "      <th>28</th>\n",
       "      <td>M24</td>\n",
       "      <td>790.0</td>\n",
       "    </tr>\n",
       "    <tr>\n",
       "      <th>29</th>\n",
       "      <td>Kar98</td>\n",
       "      <td>760.0</td>\n",
       "    </tr>\n",
       "    <tr>\n",
       "      <th>30</th>\n",
       "      <td>Win94</td>\n",
       "      <td>710.0</td>\n",
       "    </tr>\n",
       "  </tbody>\n",
       "</table>\n",
       "</div>"
      ],
      "text/plain": [
       "   Weapon Name  Bullet Speed\n",
       "27         AWM         910.0\n",
       "28         M24         790.0\n",
       "29       Kar98         760.0\n",
       "30       Win94         710.0"
      ]
     },
     "execution_count": 74,
     "metadata": {},
     "output_type": "execute_result"
    }
   ],
   "source": [
    "a6= ab[ab['Weapon Type'] == 'Sniper Rifle'][['Weapon Name','Bullet Speed']].sort_values('Bullet Speed',ascending=False)\n",
    "a6"
   ]
  },
  {
   "cell_type": "code",
   "execution_count": 75,
   "metadata": {},
   "outputs": [
    {
     "data": {
      "text/plain": [
       "<AxesSubplot:xlabel='Weapon Name', ylabel='Bullet Speed'>"
      ]
     },
     "execution_count": 75,
     "metadata": {},
     "output_type": "execute_result"
    },
    {
     "data": {
      "image/png": "[encoded data removed]",
      "text/plain": [
       "<Figure size 1500x500 with 1 Axes>"
      ]
     },
     "metadata": {},
     "output_type": "display_data"
    }
   ],
   "source": [
    "plt.figure(figsize=(15,5))\n",
    "sns.barplot(x='Weapon Name',y='Bullet Speed',data=a6,palette='Dark2')\n"
   ]
  },
  {
   "cell_type": "code",
   "execution_count": 80,
   "metadata": {},
   "outputs": [
    {
     "data": {
      "text/html": [
       "<div>\n",
       "<style scoped>\n",
       "    .dataframe tbody tr th:only-of-type {\n",
       "        vertical-align: middle;\n",
       "    }\n",
       "\n",
       "    .dataframe tbody tr th {\n",
       "        vertical-align: top;\n",
       "    }\n",
       "\n",
       "    .dataframe thead th {\n",
       "        text-align: right;\n",
       "    }\n",
       "</style>\n",
       "<table border=\"1\" class=\"dataframe\">\n",
       "  <thead>\n",
       "    <tr style=\"text-align: right;\">\n",
       "      <th></th>\n",
       "      <th>Weapon Name</th>\n",
       "      <th>Rate of Fire</th>\n",
       "    </tr>\n",
       "  </thead>\n",
       "  <tbody>\n",
       "    <tr>\n",
       "      <th>5</th>\n",
       "      <td>SCAR-L</td>\n",
       "      <td>0.096</td>\n",
       "    </tr>\n",
       "    <tr>\n",
       "      <th>9</th>\n",
       "      <td>OBZ</td>\n",
       "      <td>0.096</td>\n",
       "    </tr>\n",
       "    <tr>\n",
       "      <th>2</th>\n",
       "      <td>M762</td>\n",
       "      <td>0.086</td>\n",
       "    </tr>\n",
       "    <tr>\n",
       "      <th>4</th>\n",
       "      <td>AUG A3</td>\n",
       "      <td>0.086</td>\n",
       "    </tr>\n",
       "    <tr>\n",
       "      <th>6</th>\n",
       "      <td>M416</td>\n",
       "      <td>0.086</td>\n",
       "    </tr>\n",
       "    <tr>\n",
       "      <th>8</th>\n",
       "      <td>G36C</td>\n",
       "      <td>0.086</td>\n",
       "    </tr>\n",
       "    <tr>\n",
       "      <th>0</th>\n",
       "      <td>Groza</td>\n",
       "      <td>0.080</td>\n",
       "    </tr>\n",
       "    <tr>\n",
       "      <th>1</th>\n",
       "      <td>AKM</td>\n",
       "      <td>0.010</td>\n",
       "    </tr>\n",
       "    <tr>\n",
       "      <th>3</th>\n",
       "      <td>MK47 Mutant</td>\n",
       "      <td>0.010</td>\n",
       "    </tr>\n",
       "    <tr>\n",
       "      <th>7</th>\n",
       "      <td>M16A4</td>\n",
       "      <td>0.010</td>\n",
       "    </tr>\n",
       "  </tbody>\n",
       "</table>\n",
       "</div>"
      ],
      "text/plain": [
       "   Weapon Name  Rate of Fire\n",
       "5       SCAR-L         0.096\n",
       "9          OBZ         0.096\n",
       "2         M762         0.086\n",
       "4       AUG A3         0.086\n",
       "6         M416         0.086\n",
       "8         G36C         0.086\n",
       "0        Groza         0.080\n",
       "1          AKM         0.010\n",
       "3  MK47 Mutant         0.010\n",
       "7        M16A4         0.010"
      ]
     },
     "execution_count": 80,
     "metadata": {},
     "output_type": "execute_result"
    }
   ],
   "source": [
    "a7= ab[ab['Weapon Type'] == 'Assault Rifle'][['Weapon Name','Rate of Fire']].sort_values('Rate of Fire',ascending=False)\n",
    "a7"
   ]
  },
  {
   "cell_type": "code",
   "execution_count": 82,
   "metadata": {},
   "outputs": [
    {
     "data": {
      "text/plain": [
       "<AxesSubplot:xlabel='Weapon Name', ylabel='Rate of Fire'>"
      ]
     },
     "execution_count": 82,
     "metadata": {},
     "output_type": "execute_result"
    },
    {
     "data": {
      "image/png": "[encoded data removed]",
      "text/plain": [
       "<Figure size 1500x500 with 1 Axes>"
      ]
     },
     "metadata": {},
     "output_type": "display_data"
    }
   ],
   "source": [
    "plt.figure(figsize=(15,5))\n",
    "sns.barplot(x='Weapon Name',y='Rate of Fire',data=a7,palette='copper')\n"
   ]
  },
  {
   "cell_type": "code",
   "execution_count": null,
   "metadata": {},
   "outputs": [],
   "source": []
  },
  {
   "cell_type": "code",
   "execution_count": null,
   "metadata": {},
   "outputs": [],
   "source": []
  },
  {
   "cell_type": "code",
   "execution_count": null,
   "metadata": {},
   "outputs": [],
   "source": []
  },
  {
   "cell_type": "code",
   "execution_count": null,
   "metadata": {},
   "outputs": [],
   "source": []
  }
 ],
 "metadata": {
  "kernelspec": {
   "display_name": "Python 3",
   "language": "python",
   "name": "python3"
  },
  "language_info": {
   "codemirror_mode": {
    "name": "ipython",
    "version": 3
   },
   "file_extension": ".py",
   "mimetype": "text/x-python",
   "name": "python",
   "nbconvert_exporter": "python",
   "pygments_lexer": "ipython3",
   "version": "3.7.0"
  },
  "orig_nbformat": 4
 },
 "nbformat": 4,
 "nbformat_minor": 2
}
